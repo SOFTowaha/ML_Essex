{
 "metadata": {
  "language_info": {
   "codemirror_mode": {
    "name": "ipython",
    "version": 3
   },
   "file_extension": ".py",
   "mimetype": "text/x-python",
   "name": "python",
   "nbconvert_exporter": "python",
   "pygments_lexer": "ipython3",
   "version": "3.8.2-final"
  },
  "orig_nbformat": 2,
  "kernelspec": {
   "name": "python3",
   "display_name": "Python 3",
   "language": "python"
  }
 },
 "nbformat": 4,
 "nbformat_minor": 2,
 "cells": [
  {
   "cell_type": "code",
   "execution_count": 193,
   "metadata": {},
   "outputs": [],
   "source": [
    "# Import Libraries for the project\n",
    "from sklearn.linear_model import LinearRegression # Imported for Linear Regression\n",
    "from sklearn.ensemble import RandomForestRegressor\n",
    "from sklearn.ensemble import GradientBoostingRegressor\n",
    "import pandas as pd # Import pandas\n",
    "import numpy as np # Import numpy\n",
    "import matplotlib.pyplot as plt # For data visualization\n",
    "from sklearn.model_selection import train_test_split  # for train_test_split function\n",
    "from sklearn.metrics import accuracy_score  #  for accuracy calculation\n",
    "from sklearn.metrics import cohen_kappa_score # for kappa calculation"
   ]
  },
  {
   "cell_type": "code",
   "execution_count": 194,
   "metadata": {},
   "outputs": [],
   "source": [
    "data = pd.read_csv(\"CE802_P3_Data/CE802_P3_Data.csv\") # Imported the dataset using pandas"
   ]
  },
  {
   "cell_type": "code",
   "execution_count": 195,
   "metadata": {},
   "outputs": [
    {
     "output_type": "execute_result",
     "data": {
      "text/plain": [
       "         F1  F2     F3      F4    F5         F6    F7       F8        F9  \\\n",
       "0      6.57   2   1.42  119.73 -3.34        Low  7.83 -4506.63 -16448.13   \n",
       "1     17.64   2   0.70  102.48 -9.77       High  2.43 -3326.25 -15865.93   \n",
       "2      6.06   1  14.72  249.60 -2.26  Very high  4.29 -2206.02 -11705.56   \n",
       "3      2.07   3   0.00  149.85 -0.99       High  3.50 -2798.73 -13815.70   \n",
       "4     18.99   5   1.92   26.67 -5.62        Low  3.10 -4357.92 -18105.59   \n",
       "...     ...  ..    ...     ...   ...        ...   ...      ...       ...   \n",
       "1495  12.33   9   2.64  206.46 -3.44       High  6.73 -2566.77 -23124.56   \n",
       "1496   0.96   3  48.70   91.20 -3.68     Medium  3.46 -3142.26 -17738.33   \n",
       "1497   7.89   3  57.82  -65.46 -1.72     Medium  2.63 -1500.72 -15052.66   \n",
       "1498   3.75   5  59.36   78.69 -3.43        Low  2.28 -4507.05 -14998.52   \n",
       "1499  21.06   7   0.56  189.30  0.83     Medium  5.00 -4828.05 -15473.97   \n",
       "\n",
       "         F10    F11    F12  F13     F14      F15     F16   Target  \n",
       "0    -214.64   6.96 -29.12    6     USA  3835.29  660.06   288.54  \n",
       "1    -199.36   9.20 -30.42    4      UK  4130.94  683.22  1075.23  \n",
       "2    -149.86  12.97 -21.58   16     USA  5305.89  769.83  1722.09  \n",
       "3    -219.50   5.78 -38.10   10  Europe  2149.47  720.63  3376.78  \n",
       "4    -208.86   7.38  -7.06    6  Europe  5115.03  789.96     0.00  \n",
       "...      ...    ...    ...  ...     ...      ...     ...      ...  \n",
       "1495 -140.32   9.82 -38.42    8  Europe  3759.72  722.07  2952.31  \n",
       "1496 -121.30  11.10 -31.12    8      UK  5409.42  987.69     0.00  \n",
       "1497 -253.74   6.19 -15.24    6     USA  4109.13  688.32    23.73  \n",
       "1498 -214.40   7.31 -28.96    8    Rest  4671.33  561.90     0.00  \n",
       "1499 -221.64   8.27 -28.60   18     USA  3214.65  665.82   850.35  \n",
       "\n",
       "[1500 rows x 17 columns]"
      ],
      "text/html": "<div>\n<style scoped>\n    .dataframe tbody tr th:only-of-type {\n        vertical-align: middle;\n    }\n\n    .dataframe tbody tr th {\n        vertical-align: top;\n    }\n\n    .dataframe thead th {\n        text-align: right;\n    }\n</style>\n<table border=\"1\" class=\"dataframe\">\n  <thead>\n    <tr style=\"text-align: right;\">\n      <th></th>\n      <th>F1</th>\n      <th>F2</th>\n      <th>F3</th>\n      <th>F4</th>\n      <th>F5</th>\n      <th>F6</th>\n      <th>F7</th>\n      <th>F8</th>\n      <th>F9</th>\n      <th>F10</th>\n      <th>F11</th>\n      <th>F12</th>\n      <th>F13</th>\n      <th>F14</th>\n      <th>F15</th>\n      <th>F16</th>\n      <th>Target</th>\n    </tr>\n  </thead>\n  <tbody>\n    <tr>\n      <th>0</th>\n      <td>6.57</td>\n      <td>2</td>\n      <td>1.42</td>\n      <td>119.73</td>\n      <td>-3.34</td>\n      <td>Low</td>\n      <td>7.83</td>\n      <td>-4506.63</td>\n      <td>-16448.13</td>\n      <td>-214.64</td>\n      <td>6.96</td>\n      <td>-29.12</td>\n      <td>6</td>\n      <td>USA</td>\n      <td>3835.29</td>\n      <td>660.06</td>\n      <td>288.54</td>\n    </tr>\n    <tr>\n      <th>1</th>\n      <td>17.64</td>\n      <td>2</td>\n      <td>0.70</td>\n      <td>102.48</td>\n      <td>-9.77</td>\n      <td>High</td>\n      <td>2.43</td>\n      <td>-3326.25</td>\n      <td>-15865.93</td>\n      <td>-199.36</td>\n      <td>9.20</td>\n      <td>-30.42</td>\n      <td>4</td>\n      <td>UK</td>\n      <td>4130.94</td>\n      <td>683.22</td>\n      <td>1075.23</td>\n    </tr>\n    <tr>\n      <th>2</th>\n      <td>6.06</td>\n      <td>1</td>\n      <td>14.72</td>\n      <td>249.60</td>\n      <td>-2.26</td>\n      <td>Very high</td>\n      <td>4.29</td>\n      <td>-2206.02</td>\n      <td>-11705.56</td>\n      <td>-149.86</td>\n      <td>12.97</td>\n      <td>-21.58</td>\n      <td>16</td>\n      <td>USA</td>\n      <td>5305.89</td>\n      <td>769.83</td>\n      <td>1722.09</td>\n    </tr>\n    <tr>\n      <th>3</th>\n      <td>2.07</td>\n      <td>3</td>\n      <td>0.00</td>\n      <td>149.85</td>\n      <td>-0.99</td>\n      <td>High</td>\n      <td>3.50</td>\n      <td>-2798.73</td>\n      <td>-13815.70</td>\n      <td>-219.50</td>\n      <td>5.78</td>\n      <td>-38.10</td>\n      <td>10</td>\n      <td>Europe</td>\n      <td>2149.47</td>\n      <td>720.63</td>\n      <td>3376.78</td>\n    </tr>\n    <tr>\n      <th>4</th>\n      <td>18.99</td>\n      <td>5</td>\n      <td>1.92</td>\n      <td>26.67</td>\n      <td>-5.62</td>\n      <td>Low</td>\n      <td>3.10</td>\n      <td>-4357.92</td>\n      <td>-18105.59</td>\n      <td>-208.86</td>\n      <td>7.38</td>\n      <td>-7.06</td>\n      <td>6</td>\n      <td>Europe</td>\n      <td>5115.03</td>\n      <td>789.96</td>\n      <td>0.00</td>\n    </tr>\n    <tr>\n      <th>...</th>\n      <td>...</td>\n      <td>...</td>\n      <td>...</td>\n      <td>...</td>\n      <td>...</td>\n      <td>...</td>\n      <td>...</td>\n      <td>...</td>\n      <td>...</td>\n      <td>...</td>\n      <td>...</td>\n      <td>...</td>\n      <td>...</td>\n      <td>...</td>\n      <td>...</td>\n      <td>...</td>\n      <td>...</td>\n    </tr>\n    <tr>\n      <th>1495</th>\n      <td>12.33</td>\n      <td>9</td>\n      <td>2.64</td>\n      <td>206.46</td>\n      <td>-3.44</td>\n      <td>High</td>\n      <td>6.73</td>\n      <td>-2566.77</td>\n      <td>-23124.56</td>\n      <td>-140.32</td>\n      <td>9.82</td>\n      <td>-38.42</td>\n      <td>8</td>\n      <td>Europe</td>\n      <td>3759.72</td>\n      <td>722.07</td>\n      <td>2952.31</td>\n    </tr>\n    <tr>\n      <th>1496</th>\n      <td>0.96</td>\n      <td>3</td>\n      <td>48.70</td>\n      <td>91.20</td>\n      <td>-3.68</td>\n      <td>Medium</td>\n      <td>3.46</td>\n      <td>-3142.26</td>\n      <td>-17738.33</td>\n      <td>-121.30</td>\n      <td>11.10</td>\n      <td>-31.12</td>\n      <td>8</td>\n      <td>UK</td>\n      <td>5409.42</td>\n      <td>987.69</td>\n      <td>0.00</td>\n    </tr>\n    <tr>\n      <th>1497</th>\n      <td>7.89</td>\n      <td>3</td>\n      <td>57.82</td>\n      <td>-65.46</td>\n      <td>-1.72</td>\n      <td>Medium</td>\n      <td>2.63</td>\n      <td>-1500.72</td>\n      <td>-15052.66</td>\n      <td>-253.74</td>\n      <td>6.19</td>\n      <td>-15.24</td>\n      <td>6</td>\n      <td>USA</td>\n      <td>4109.13</td>\n      <td>688.32</td>\n      <td>23.73</td>\n    </tr>\n    <tr>\n      <th>1498</th>\n      <td>3.75</td>\n      <td>5</td>\n      <td>59.36</td>\n      <td>78.69</td>\n      <td>-3.43</td>\n      <td>Low</td>\n      <td>2.28</td>\n      <td>-4507.05</td>\n      <td>-14998.52</td>\n      <td>-214.40</td>\n      <td>7.31</td>\n      <td>-28.96</td>\n      <td>8</td>\n      <td>Rest</td>\n      <td>4671.33</td>\n      <td>561.90</td>\n      <td>0.00</td>\n    </tr>\n    <tr>\n      <th>1499</th>\n      <td>21.06</td>\n      <td>7</td>\n      <td>0.56</td>\n      <td>189.30</td>\n      <td>0.83</td>\n      <td>Medium</td>\n      <td>5.00</td>\n      <td>-4828.05</td>\n      <td>-15473.97</td>\n      <td>-221.64</td>\n      <td>8.27</td>\n      <td>-28.60</td>\n      <td>18</td>\n      <td>USA</td>\n      <td>3214.65</td>\n      <td>665.82</td>\n      <td>850.35</td>\n    </tr>\n  </tbody>\n</table>\n<p>1500 rows × 17 columns</p>\n</div>"
     },
     "metadata": {},
     "execution_count": 195
    }
   ],
   "source": [
    "data"
   ]
  },
  {
   "cell_type": "code",
   "execution_count": 196,
   "metadata": {},
   "outputs": [
    {
     "output_type": "stream",
     "name": "stdout",
     "text": [
      "<class 'pandas.core.frame.DataFrame'>\nRangeIndex: 1500 entries, 0 to 1499\nData columns (total 17 columns):\n #   Column  Non-Null Count  Dtype  \n---  ------  --------------  -----  \n 0   F1      1500 non-null   float64\n 1   F2      1500 non-null   int64  \n 2   F3      1500 non-null   float64\n 3   F4      1500 non-null   float64\n 4   F5      1500 non-null   float64\n 5   F6      1500 non-null   object \n 6   F7      1500 non-null   float64\n 7   F8      1500 non-null   float64\n 8   F9      1500 non-null   float64\n 9   F10     1500 non-null   float64\n 10  F11     1500 non-null   float64\n 11  F12     1500 non-null   float64\n 12  F13     1500 non-null   int64  \n 13  F14     1500 non-null   object \n 14  F15     1500 non-null   float64\n 15  F16     1500 non-null   float64\n 16  Target  1500 non-null   float64\ndtypes: float64(13), int64(2), object(2)\nmemory usage: 199.3+ KB\n"
     ]
    }
   ],
   "source": [
    "data.info() # to see what type of data we have here"
   ]
  },
  {
   "cell_type": "code",
   "execution_count": 197,
   "metadata": {},
   "outputs": [
    {
     "output_type": "execute_result",
     "data": {
      "text/plain": [
       "F1        0\n",
       "F2        0\n",
       "F3        0\n",
       "F4        0\n",
       "F5        0\n",
       "F6        0\n",
       "F7        0\n",
       "F8        0\n",
       "F9        0\n",
       "F10       0\n",
       "F11       0\n",
       "F12       0\n",
       "F13       0\n",
       "F14       0\n",
       "F15       0\n",
       "F16       0\n",
       "Target    0\n",
       "dtype: int64"
      ]
     },
     "metadata": {},
     "execution_count": 197
    }
   ],
   "source": [
    "data.isnull().sum() # to see if any NA values"
   ]
  },
  {
   "cell_type": "code",
   "execution_count": 198,
   "metadata": {},
   "outputs": [
    {
     "output_type": "execute_result",
     "data": {
      "text/plain": [
       "array(['Low', 'High', 'Very high', 'Medium', 'Very low'], dtype=object)"
      ]
     },
     "metadata": {},
     "execution_count": 198
    }
   ],
   "source": [
    "data['F6'].unique() # to see the unique values"
   ]
  },
  {
   "cell_type": "code",
   "execution_count": 199,
   "metadata": {},
   "outputs": [
    {
     "output_type": "execute_result",
     "data": {
      "text/plain": [
       "array(['USA', 'UK', 'Europe', 'Rest'], dtype=object)"
      ]
     },
     "metadata": {},
     "execution_count": 199
    }
   ],
   "source": [
    "data['F14'].unique() # to see the unique values"
   ]
  },
  {
   "cell_type": "code",
   "execution_count": 200,
   "metadata": {},
   "outputs": [],
   "source": [
    "def replace_country(a,b):\n",
    "    data.F14.replace(a,b,inplace=True)\n",
    "replace_country('USA',1)\n",
    "replace_country('UK',2)\n",
    "replace_country('Europe',3)\n",
    "replace_country('Rest',4)"
   ]
  },
  {
   "cell_type": "code",
   "execution_count": 201,
   "metadata": {},
   "outputs": [
    {
     "output_type": "execute_result",
     "data": {
      "text/plain": [
       "0       1\n",
       "1       2\n",
       "2       1\n",
       "3       3\n",
       "4       3\n",
       "       ..\n",
       "1495    3\n",
       "1496    2\n",
       "1497    1\n",
       "1498    4\n",
       "1499    1\n",
       "Name: F14, Length: 1500, dtype: int64"
      ]
     },
     "metadata": {},
     "execution_count": 201
    }
   ],
   "source": [
    "data.F14"
   ]
  },
  {
   "cell_type": "code",
   "execution_count": 202,
   "metadata": {},
   "outputs": [],
   "source": [
    "def replace_cF6(a,b):\n",
    "    data.F6.replace(a,b,inplace=True)\n",
    "replace_cF6('Low',1)\n",
    "replace_cF6('High',2)\n",
    "replace_cF6('Very high',3)\n",
    "replace_cF6('Medium',4)\n",
    "replace_cF6('Very low',5)"
   ]
  },
  {
   "cell_type": "code",
   "execution_count": 203,
   "metadata": {},
   "outputs": [
    {
     "output_type": "execute_result",
     "data": {
      "text/plain": [
       "0       1\n",
       "1       2\n",
       "2       3\n",
       "3       2\n",
       "4       1\n",
       "       ..\n",
       "1495    2\n",
       "1496    4\n",
       "1497    4\n",
       "1498    1\n",
       "1499    4\n",
       "Name: F6, Length: 1500, dtype: int64"
      ]
     },
     "metadata": {},
     "execution_count": 203
    }
   ],
   "source": [
    "data.F6"
   ]
  },
  {
   "cell_type": "code",
   "execution_count": 204,
   "metadata": {},
   "outputs": [
    {
     "output_type": "execute_result",
     "data": {
      "text/plain": [
       "         F1  F2     F3      F4    F5  F6    F7       F8        F9     F10  \\\n",
       "0      6.57   2   1.42  119.73 -3.34   1  7.83 -4506.63 -16448.13 -214.64   \n",
       "1     17.64   2   0.70  102.48 -9.77   2  2.43 -3326.25 -15865.93 -199.36   \n",
       "2      6.06   1  14.72  249.60 -2.26   3  4.29 -2206.02 -11705.56 -149.86   \n",
       "3      2.07   3   0.00  149.85 -0.99   2  3.50 -2798.73 -13815.70 -219.50   \n",
       "4     18.99   5   1.92   26.67 -5.62   1  3.10 -4357.92 -18105.59 -208.86   \n",
       "...     ...  ..    ...     ...   ...  ..   ...      ...       ...     ...   \n",
       "1495  12.33   9   2.64  206.46 -3.44   2  6.73 -2566.77 -23124.56 -140.32   \n",
       "1496   0.96   3  48.70   91.20 -3.68   4  3.46 -3142.26 -17738.33 -121.30   \n",
       "1497   7.89   3  57.82  -65.46 -1.72   4  2.63 -1500.72 -15052.66 -253.74   \n",
       "1498   3.75   5  59.36   78.69 -3.43   1  2.28 -4507.05 -14998.52 -214.40   \n",
       "1499  21.06   7   0.56  189.30  0.83   4  5.00 -4828.05 -15473.97 -221.64   \n",
       "\n",
       "        F11    F12  F13  F14      F15     F16   Target  \n",
       "0      6.96 -29.12    6    1  3835.29  660.06   288.54  \n",
       "1      9.20 -30.42    4    2  4130.94  683.22  1075.23  \n",
       "2     12.97 -21.58   16    1  5305.89  769.83  1722.09  \n",
       "3      5.78 -38.10   10    3  2149.47  720.63  3376.78  \n",
       "4      7.38  -7.06    6    3  5115.03  789.96     0.00  \n",
       "...     ...    ...  ...  ...      ...     ...      ...  \n",
       "1495   9.82 -38.42    8    3  3759.72  722.07  2952.31  \n",
       "1496  11.10 -31.12    8    2  5409.42  987.69     0.00  \n",
       "1497   6.19 -15.24    6    1  4109.13  688.32    23.73  \n",
       "1498   7.31 -28.96    8    4  4671.33  561.90     0.00  \n",
       "1499   8.27 -28.60   18    1  3214.65  665.82   850.35  \n",
       "\n",
       "[1500 rows x 17 columns]"
      ],
      "text/html": "<div>\n<style scoped>\n    .dataframe tbody tr th:only-of-type {\n        vertical-align: middle;\n    }\n\n    .dataframe tbody tr th {\n        vertical-align: top;\n    }\n\n    .dataframe thead th {\n        text-align: right;\n    }\n</style>\n<table border=\"1\" class=\"dataframe\">\n  <thead>\n    <tr style=\"text-align: right;\">\n      <th></th>\n      <th>F1</th>\n      <th>F2</th>\n      <th>F3</th>\n      <th>F4</th>\n      <th>F5</th>\n      <th>F6</th>\n      <th>F7</th>\n      <th>F8</th>\n      <th>F9</th>\n      <th>F10</th>\n      <th>F11</th>\n      <th>F12</th>\n      <th>F13</th>\n      <th>F14</th>\n      <th>F15</th>\n      <th>F16</th>\n      <th>Target</th>\n    </tr>\n  </thead>\n  <tbody>\n    <tr>\n      <th>0</th>\n      <td>6.57</td>\n      <td>2</td>\n      <td>1.42</td>\n      <td>119.73</td>\n      <td>-3.34</td>\n      <td>1</td>\n      <td>7.83</td>\n      <td>-4506.63</td>\n      <td>-16448.13</td>\n      <td>-214.64</td>\n      <td>6.96</td>\n      <td>-29.12</td>\n      <td>6</td>\n      <td>1</td>\n      <td>3835.29</td>\n      <td>660.06</td>\n      <td>288.54</td>\n    </tr>\n    <tr>\n      <th>1</th>\n      <td>17.64</td>\n      <td>2</td>\n      <td>0.70</td>\n      <td>102.48</td>\n      <td>-9.77</td>\n      <td>2</td>\n      <td>2.43</td>\n      <td>-3326.25</td>\n      <td>-15865.93</td>\n      <td>-199.36</td>\n      <td>9.20</td>\n      <td>-30.42</td>\n      <td>4</td>\n      <td>2</td>\n      <td>4130.94</td>\n      <td>683.22</td>\n      <td>1075.23</td>\n    </tr>\n    <tr>\n      <th>2</th>\n      <td>6.06</td>\n      <td>1</td>\n      <td>14.72</td>\n      <td>249.60</td>\n      <td>-2.26</td>\n      <td>3</td>\n      <td>4.29</td>\n      <td>-2206.02</td>\n      <td>-11705.56</td>\n      <td>-149.86</td>\n      <td>12.97</td>\n      <td>-21.58</td>\n      <td>16</td>\n      <td>1</td>\n      <td>5305.89</td>\n      <td>769.83</td>\n      <td>1722.09</td>\n    </tr>\n    <tr>\n      <th>3</th>\n      <td>2.07</td>\n      <td>3</td>\n      <td>0.00</td>\n      <td>149.85</td>\n      <td>-0.99</td>\n      <td>2</td>\n      <td>3.50</td>\n      <td>-2798.73</td>\n      <td>-13815.70</td>\n      <td>-219.50</td>\n      <td>5.78</td>\n      <td>-38.10</td>\n      <td>10</td>\n      <td>3</td>\n      <td>2149.47</td>\n      <td>720.63</td>\n      <td>3376.78</td>\n    </tr>\n    <tr>\n      <th>4</th>\n      <td>18.99</td>\n      <td>5</td>\n      <td>1.92</td>\n      <td>26.67</td>\n      <td>-5.62</td>\n      <td>1</td>\n      <td>3.10</td>\n      <td>-4357.92</td>\n      <td>-18105.59</td>\n      <td>-208.86</td>\n      <td>7.38</td>\n      <td>-7.06</td>\n      <td>6</td>\n      <td>3</td>\n      <td>5115.03</td>\n      <td>789.96</td>\n      <td>0.00</td>\n    </tr>\n    <tr>\n      <th>...</th>\n      <td>...</td>\n      <td>...</td>\n      <td>...</td>\n      <td>...</td>\n      <td>...</td>\n      <td>...</td>\n      <td>...</td>\n      <td>...</td>\n      <td>...</td>\n      <td>...</td>\n      <td>...</td>\n      <td>...</td>\n      <td>...</td>\n      <td>...</td>\n      <td>...</td>\n      <td>...</td>\n      <td>...</td>\n    </tr>\n    <tr>\n      <th>1495</th>\n      <td>12.33</td>\n      <td>9</td>\n      <td>2.64</td>\n      <td>206.46</td>\n      <td>-3.44</td>\n      <td>2</td>\n      <td>6.73</td>\n      <td>-2566.77</td>\n      <td>-23124.56</td>\n      <td>-140.32</td>\n      <td>9.82</td>\n      <td>-38.42</td>\n      <td>8</td>\n      <td>3</td>\n      <td>3759.72</td>\n      <td>722.07</td>\n      <td>2952.31</td>\n    </tr>\n    <tr>\n      <th>1496</th>\n      <td>0.96</td>\n      <td>3</td>\n      <td>48.70</td>\n      <td>91.20</td>\n      <td>-3.68</td>\n      <td>4</td>\n      <td>3.46</td>\n      <td>-3142.26</td>\n      <td>-17738.33</td>\n      <td>-121.30</td>\n      <td>11.10</td>\n      <td>-31.12</td>\n      <td>8</td>\n      <td>2</td>\n      <td>5409.42</td>\n      <td>987.69</td>\n      <td>0.00</td>\n    </tr>\n    <tr>\n      <th>1497</th>\n      <td>7.89</td>\n      <td>3</td>\n      <td>57.82</td>\n      <td>-65.46</td>\n      <td>-1.72</td>\n      <td>4</td>\n      <td>2.63</td>\n      <td>-1500.72</td>\n      <td>-15052.66</td>\n      <td>-253.74</td>\n      <td>6.19</td>\n      <td>-15.24</td>\n      <td>6</td>\n      <td>1</td>\n      <td>4109.13</td>\n      <td>688.32</td>\n      <td>23.73</td>\n    </tr>\n    <tr>\n      <th>1498</th>\n      <td>3.75</td>\n      <td>5</td>\n      <td>59.36</td>\n      <td>78.69</td>\n      <td>-3.43</td>\n      <td>1</td>\n      <td>2.28</td>\n      <td>-4507.05</td>\n      <td>-14998.52</td>\n      <td>-214.40</td>\n      <td>7.31</td>\n      <td>-28.96</td>\n      <td>8</td>\n      <td>4</td>\n      <td>4671.33</td>\n      <td>561.90</td>\n      <td>0.00</td>\n    </tr>\n    <tr>\n      <th>1499</th>\n      <td>21.06</td>\n      <td>7</td>\n      <td>0.56</td>\n      <td>189.30</td>\n      <td>0.83</td>\n      <td>4</td>\n      <td>5.00</td>\n      <td>-4828.05</td>\n      <td>-15473.97</td>\n      <td>-221.64</td>\n      <td>8.27</td>\n      <td>-28.60</td>\n      <td>18</td>\n      <td>1</td>\n      <td>3214.65</td>\n      <td>665.82</td>\n      <td>850.35</td>\n    </tr>\n  </tbody>\n</table>\n<p>1500 rows × 17 columns</p>\n</div>"
     },
     "metadata": {},
     "execution_count": 204
    }
   ],
   "source": [
    "data"
   ]
  },
  {
   "cell_type": "code",
   "execution_count": 205,
   "metadata": {},
   "outputs": [],
   "source": [
    "train_data_x = data.iloc[:,:16] # splitted data for the features\n",
    "train_data_y = data.iloc[:, 16] # Splitted for the Target column Class\n",
    "x_train, x_test, y_train, y_test = train_test_split(train_data_x, train_data_y, test_size = 0.2, random_state = 10) # Splitting the data"
   ]
  },
  {
   "cell_type": "code",
   "execution_count": 206,
   "metadata": {},
   "outputs": [
    {
     "output_type": "stream",
     "name": "stdout",
     "text": [
      "Score: 0.6789168904393641\n"
     ]
    }
   ],
   "source": [
    "LRO = LinearRegression() # creating linear regressor object\n",
    "LRO = LRO.fit(x_train,y_train) #feeding the model\n",
    "LRScore1 = LRO.score(x_test,y_test)\n",
    "print(\"Score:\", LRScore1)"
   ]
  },
  {
   "cell_type": "code",
   "execution_count": 207,
   "metadata": {},
   "outputs": [
    {
     "output_type": "stream",
     "name": "stdout",
     "text": [
      "Score: 0.8164604167727227\n"
     ]
    }
   ],
   "source": [
    "GBO = GradientBoostingRegressor(n_estimators = 400, max_depth = 5, min_samples_split = 2,\n",
    "          learning_rate = 0.1, loss = 'ls') # creating Gradient Boosting Regressor object\n",
    "GBO = GBO.fit(x_train,y_train) #feeding the model\n",
    "GBScore1 = GBO.score(x_test,y_test)\n",
    "print(\"Score:\", GBScore1)"
   ]
  },
  {
   "cell_type": "code",
   "execution_count": 208,
   "metadata": {},
   "outputs": [
    {
     "output_type": "stream",
     "name": "stdout",
     "text": [
      "Score: 0.6770847115136522\n"
     ]
    }
   ],
   "source": [
    "RFO = RandomForestRegressor(n_jobs=1, oob_score=True) # creating Random Forest Regressor object\n",
    "RFO = RFO.fit(x_train,y_train) #feeding the model\n",
    "RFScore1 = RFO.score(x_test,y_test)\n",
    "print(\"Score:\", RFScore1)"
   ]
  },
  {
   "cell_type": "code",
   "execution_count": 209,
   "metadata": {},
   "outputs": [],
   "source": [
    "# Filling zero of Target column with the mean values\n",
    "data['Target']=data['Target'].replace(0,data['Target'].mean())"
   ]
  },
  {
   "cell_type": "code",
   "execution_count": 210,
   "metadata": {},
   "outputs": [],
   "source": [
    "train_data_x = data.iloc[:,:16] # splitted data for the features\n",
    "train_data_y = data.iloc[:, 16] # Splitted for the Target column Class\n",
    "x_train, x_test, y_train, y_test = train_test_split(train_data_x, train_data_y, test_size = 0.2, random_state = 10) # Splitting the data"
   ]
  },
  {
   "cell_type": "code",
   "execution_count": 211,
   "metadata": {},
   "outputs": [
    {
     "output_type": "stream",
     "name": "stdout",
     "text": [
      "Score: 0.4203527219307589\n"
     ]
    }
   ],
   "source": [
    "LRO = LinearRegression() # creating linear regressor object\n",
    "LRO = LRO.fit(x_train,y_train) #feeding the model\n",
    "LRScore2 = LRO.score(x_test,y_test)\n",
    "print(\"Score:\", LRScore2)"
   ]
  },
  {
   "cell_type": "code",
   "execution_count": 212,
   "metadata": {},
   "outputs": [
    {
     "output_type": "stream",
     "name": "stdout",
     "text": [
      "Score: 0.66522042679068\n"
     ]
    }
   ],
   "source": [
    "GBO = GradientBoostingRegressor(n_estimators = 400, max_depth = 5, min_samples_split = 2,\n",
    "          learning_rate = 0.1, loss = 'ls') # creating Gradient Boosting Regressor object\n",
    "GBO = GBO.fit(x_train,y_train) #feeding the model\n",
    "GBScore2 = GBO.score(x_test,y_test)\n",
    "print(\"Score:\", GBScore2)"
   ]
  },
  {
   "cell_type": "code",
   "execution_count": 213,
   "metadata": {},
   "outputs": [
    {
     "output_type": "stream",
     "name": "stdout",
     "text": [
      "Score: 0.5803909303022915\n"
     ]
    }
   ],
   "source": [
    "RFO = RandomForestRegressor(n_jobs=1, oob_score=True) # creating Random Forest Regressor object\n",
    "RFO = RFO.fit(x_train,y_train) #feeding the model\n",
    "RFScore2 = RFO.score(x_test,y_test)\n",
    "print(\"Score:\", RFScore2)"
   ]
  },
  {
   "cell_type": "code",
   "execution_count": 214,
   "metadata": {},
   "outputs": [],
   "source": [
    "data = pd.read_csv(\"CE802_P3_Data/CE802_P3_Data.csv\") # To get the original data back"
   ]
  },
  {
   "cell_type": "code",
   "execution_count": 215,
   "metadata": {},
   "outputs": [],
   "source": [
    "# Changing Objet data to integer\n",
    "def replace_country(a,b):\n",
    "    data.F14.replace(a,b,inplace=True)\n",
    "replace_country('USA',1)\n",
    "replace_country('UK',2)\n",
    "replace_country('Europe',3)\n",
    "replace_country('Rest',4)\n",
    "\n",
    "def replace_cF6(a,b):\n",
    "    data.F6.replace(a,b,inplace=True)\n",
    "replace_cF6('Low',1)\n",
    "replace_cF6('High',2)\n",
    "replace_cF6('Very high',3)\n",
    "replace_cF6('Medium',4)\n",
    "replace_cF6('Very low',5)\n"
   ]
  },
  {
   "cell_type": "code",
   "execution_count": 216,
   "metadata": {},
   "outputs": [],
   "source": [
    "#Filling zero with the median values\n",
    "data['Target']=data['Target'].replace(0,data['Target'].median())"
   ]
  },
  {
   "cell_type": "code",
   "execution_count": 217,
   "metadata": {},
   "outputs": [],
   "source": [
    "train_data_x = data.iloc[:,:16] # splitted data for the features\n",
    "train_data_y = data.iloc[:, 16] # Splitted for the Target column Class\n",
    "x_train, x_test, y_train, y_test = train_test_split(train_data_x, train_data_y, test_size = 0.2, random_state = 10) # Splitting the data"
   ]
  },
  {
   "cell_type": "code",
   "execution_count": 218,
   "metadata": {},
   "outputs": [
    {
     "output_type": "stream",
     "name": "stdout",
     "text": [
      "Score: 0.582917845939992\n"
     ]
    }
   ],
   "source": [
    "LRO = LinearRegression() # creating linear regressor object\n",
    "LRO = LRO.fit(x_train,y_train) #feeding the model\n",
    "LRScore3 = LRO.score(x_test,y_test)\n",
    "print(\"Score:\", LRScore3)"
   ]
  },
  {
   "cell_type": "code",
   "execution_count": 219,
   "metadata": {},
   "outputs": [
    {
     "output_type": "stream",
     "name": "stdout",
     "text": [
      "Score: 0.7807023724003607\n"
     ]
    }
   ],
   "source": [
    "GBO = GradientBoostingRegressor(n_estimators = 400, max_depth = 5, min_samples_split = 2,\n",
    "          learning_rate = 0.1, loss = 'ls') # creating Gradient Boosting Regressor object\n",
    "GBO = GBO.fit(x_train,y_train) #feeding the model\n",
    "GBScore3 = GBO.score(x_test,y_test)\n",
    "print(\"Score:\", GBScore3)"
   ]
  },
  {
   "cell_type": "code",
   "execution_count": 220,
   "metadata": {},
   "outputs": [
    {
     "output_type": "stream",
     "name": "stdout",
     "text": [
      "Score: 0.6323511719057406\n"
     ]
    }
   ],
   "source": [
    "RFO = RandomForestRegressor(n_jobs=1, oob_score=True) # creating Random Forest Regressor object\n",
    "RFO = RFO.fit(x_train,y_train) #feeding the model\n",
    "RFScore3 = RFO.score(x_test,y_test)\n",
    "print(\"Score:\", RFScore3)"
   ]
  },
  {
   "cell_type": "code",
   "execution_count": 235,
   "metadata": {},
   "outputs": [
    {
     "output_type": "display_data",
     "data": {
      "text/plain": "<Figure size 432x288 with 1 Axes>",
      "image/svg+xml": "<?xml version=\"1.0\" encoding=\"utf-8\" standalone=\"no\"?>\n<!DOCTYPE svg PUBLIC \"-//W3C//DTD SVG 1.1//EN\"\n  \"http://www.w3.org/Graphics/SVG/1.1/DTD/svg11.dtd\">\n<!-- Created with matplotlib (https://matplotlib.org/) -->\n<svg height=\"262.19625pt\" version=\"1.1\" viewBox=\"0 0 372.103125 262.19625\" width=\"372.103125pt\" xmlns=\"http://www.w3.org/2000/svg\" xmlns:xlink=\"http://www.w3.org/1999/xlink\">\n <metadata>\n  <rdf:RDF xmlns:cc=\"http://creativecommons.org/ns#\" xmlns:dc=\"http://purl.org/dc/elements/1.1/\" xmlns:rdf=\"http://www.w3.org/1999/02/22-rdf-syntax-ns#\">\n   <cc:Work>\n    <dc:type rdf:resource=\"http://purl.org/dc/dcmitype/StillImage\"/>\n    <dc:date>2021-01-20T03:01:18.818745</dc:date>\n    <dc:format>image/svg+xml</dc:format>\n    <dc:creator>\n     <cc:Agent>\n      <dc:title>Matplotlib v3.3.2, https://matplotlib.org/</dc:title>\n     </cc:Agent>\n    </dc:creator>\n   </cc:Work>\n  </rdf:RDF>\n </metadata>\n <defs>\n  <style type=\"text/css\">*{stroke-linecap:butt;stroke-linejoin:round;}</style>\n </defs>\n <g id=\"figure_1\">\n  <g id=\"patch_1\">\n   <path d=\"M 0 262.19625 \nL 372.103125 262.19625 \nL 372.103125 0 \nL 0 0 \nz\n\" style=\"fill:none;\"/>\n  </g>\n  <g id=\"axes_1\">\n   <g id=\"patch_2\">\n    <path d=\"M 30.103125 224.64 \nL 364.903125 224.64 \nL 364.903125 7.2 \nL 30.103125 7.2 \nz\n\" style=\"fill:#ffffff;\"/>\n   </g>\n   <g id=\"patch_3\">\n    <path clip-path=\"url(#p91c789c780)\" d=\"M 45.321307 224.64 \nL 72.990728 224.64 \nL 72.990728 52.440606 \nL 45.321307 52.440606 \nz\n\" style=\"fill:#e4572e;stroke:#ffffff;stroke-linejoin:miter;\"/>\n   </g>\n   <g id=\"patch_4\">\n    <path clip-path=\"url(#p91c789c780)\" d=\"M 155.998993 224.64 \nL 183.668414 224.64 \nL 183.668414 118.022408 \nL 155.998993 118.022408 \nz\n\" style=\"fill:#e4572e;stroke:#ffffff;stroke-linejoin:miter;\"/>\n   </g>\n   <g id=\"patch_5\">\n    <path clip-path=\"url(#p91c789c780)\" d=\"M 266.676679 224.64 \nL 294.3461 224.64 \nL 294.3461 76.78965 \nL 266.676679 76.78965 \nz\n\" style=\"fill:#e4572e;stroke:#ffffff;stroke-linejoin:miter;\"/>\n   </g>\n   <g id=\"patch_6\">\n    <path clip-path=\"url(#p91c789c780)\" d=\"M 72.990728 224.64 \nL 100.66015 224.64 \nL 100.66015 17.554286 \nL 72.990728 17.554286 \nz\n\" style=\"fill:#f0f66e;stroke:#ffffff;stroke-linejoin:miter;\"/>\n   </g>\n   <g id=\"patch_7\">\n    <path clip-path=\"url(#p91c789c780)\" d=\"M 183.668414 224.64 \nL 211.337836 224.64 \nL 211.337836 55.914555 \nL 183.668414 55.914555 \nz\n\" style=\"fill:#f0f66e;stroke:#ffffff;stroke-linejoin:miter;\"/>\n   </g>\n   <g id=\"patch_8\">\n    <path clip-path=\"url(#p91c789c780)\" d=\"M 294.3461 224.64 \nL 322.015522 224.64 \nL 322.015522 26.623899 \nL 294.3461 26.623899 \nz\n\" style=\"fill:#f0f66e;stroke:#ffffff;stroke-linejoin:miter;\"/>\n   </g>\n   <g id=\"patch_9\">\n    <path clip-path=\"url(#p91c789c780)\" d=\"M 100.66015 224.64 \nL 128.329571 224.64 \nL 128.329571 64.25146 \nL 100.66015 64.25146 \nz\n\" style=\"fill:#e65eff;stroke:#ffffff;stroke-linejoin:miter;\"/>\n   </g>\n   <g id=\"patch_10\">\n    <path clip-path=\"url(#p91c789c780)\" d=\"M 211.337836 224.64 \nL 239.007257 224.64 \nL 239.007257 64.25146 \nL 211.337836 64.25146 \nz\n\" style=\"fill:#e65eff;stroke:#ffffff;stroke-linejoin:miter;\"/>\n   </g>\n   <g id=\"patch_11\">\n    <path clip-path=\"url(#p91c789c780)\" d=\"M 322.015522 224.64 \nL 349.684943 224.64 \nL 349.684943 64.25146 \nL 322.015522 64.25146 \nz\n\" style=\"fill:#e65eff;stroke:#ffffff;stroke-linejoin:miter;\"/>\n   </g>\n   <g id=\"matplotlib.axis_1\">\n    <g id=\"xtick_1\">\n     <g id=\"line2d_1\">\n      <defs>\n       <path d=\"M 0 0 \nL 0 3.5 \n\" id=\"mac1c537d64\" style=\"stroke:#000000;stroke-width:0.8;\"/>\n      </defs>\n      <g>\n       <use style=\"stroke:#000000;stroke-width:0.8;\" x=\"86.825439\" xlink:href=\"#mac1c537d64\" y=\"224.64\"/>\n      </g>\n     </g>\n     <g id=\"text_1\">\n      <!-- With Zero -->\n      <g transform=\"translate(62.383252 239.238437)scale(0.1 -0.1)\">\n       <defs>\n        <path d=\"M 3.328125 72.90625 \nL 13.28125 72.90625 \nL 28.609375 11.28125 \nL 43.890625 72.90625 \nL 54.984375 72.90625 \nL 70.3125 11.28125 \nL 85.59375 72.90625 \nL 95.609375 72.90625 \nL 77.296875 0 \nL 64.890625 0 \nL 49.515625 63.28125 \nL 33.984375 0 \nL 21.578125 0 \nz\n\" id=\"DejaVuSans-87\"/>\n        <path d=\"M 9.421875 54.6875 \nL 18.40625 54.6875 \nL 18.40625 0 \nL 9.421875 0 \nz\nM 9.421875 75.984375 \nL 18.40625 75.984375 \nL 18.40625 64.59375 \nL 9.421875 64.59375 \nz\n\" id=\"DejaVuSans-105\"/>\n        <path d=\"M 18.3125 70.21875 \nL 18.3125 54.6875 \nL 36.8125 54.6875 \nL 36.8125 47.703125 \nL 18.3125 47.703125 \nL 18.3125 18.015625 \nQ 18.3125 11.328125 20.140625 9.421875 \nQ 21.96875 7.515625 27.59375 7.515625 \nL 36.8125 7.515625 \nL 36.8125 0 \nL 27.59375 0 \nQ 17.1875 0 13.234375 3.875 \nQ 9.28125 7.765625 9.28125 18.015625 \nL 9.28125 47.703125 \nL 2.6875 47.703125 \nL 2.6875 54.6875 \nL 9.28125 54.6875 \nL 9.28125 70.21875 \nz\n\" id=\"DejaVuSans-116\"/>\n        <path d=\"M 54.890625 33.015625 \nL 54.890625 0 \nL 45.90625 0 \nL 45.90625 32.71875 \nQ 45.90625 40.484375 42.875 44.328125 \nQ 39.84375 48.1875 33.796875 48.1875 \nQ 26.515625 48.1875 22.3125 43.546875 \nQ 18.109375 38.921875 18.109375 30.90625 \nL 18.109375 0 \nL 9.078125 0 \nL 9.078125 75.984375 \nL 18.109375 75.984375 \nL 18.109375 46.1875 \nQ 21.34375 51.125 25.703125 53.5625 \nQ 30.078125 56 35.796875 56 \nQ 45.21875 56 50.046875 50.171875 \nQ 54.890625 44.34375 54.890625 33.015625 \nz\n\" id=\"DejaVuSans-104\"/>\n        <path id=\"DejaVuSans-32\"/>\n        <path d=\"M 5.609375 72.90625 \nL 62.890625 72.90625 \nL 62.890625 65.375 \nL 16.796875 8.296875 \nL 64.015625 8.296875 \nL 64.015625 0 \nL 4.5 0 \nL 4.5 7.515625 \nL 50.59375 64.59375 \nL 5.609375 64.59375 \nz\n\" id=\"DejaVuSans-90\"/>\n        <path d=\"M 56.203125 29.59375 \nL 56.203125 25.203125 \nL 14.890625 25.203125 \nQ 15.484375 15.921875 20.484375 11.0625 \nQ 25.484375 6.203125 34.421875 6.203125 \nQ 39.59375 6.203125 44.453125 7.46875 \nQ 49.3125 8.734375 54.109375 11.28125 \nL 54.109375 2.78125 \nQ 49.265625 0.734375 44.1875 -0.34375 \nQ 39.109375 -1.421875 33.890625 -1.421875 \nQ 20.796875 -1.421875 13.15625 6.1875 \nQ 5.515625 13.8125 5.515625 26.8125 \nQ 5.515625 40.234375 12.765625 48.109375 \nQ 20.015625 56 32.328125 56 \nQ 43.359375 56 49.78125 48.890625 \nQ 56.203125 41.796875 56.203125 29.59375 \nz\nM 47.21875 32.234375 \nQ 47.125 39.59375 43.09375 43.984375 \nQ 39.0625 48.390625 32.421875 48.390625 \nQ 24.90625 48.390625 20.390625 44.140625 \nQ 15.875 39.890625 15.1875 32.171875 \nz\n\" id=\"DejaVuSans-101\"/>\n        <path d=\"M 41.109375 46.296875 \nQ 39.59375 47.171875 37.8125 47.578125 \nQ 36.03125 48 33.890625 48 \nQ 26.265625 48 22.1875 43.046875 \nQ 18.109375 38.09375 18.109375 28.8125 \nL 18.109375 0 \nL 9.078125 0 \nL 9.078125 54.6875 \nL 18.109375 54.6875 \nL 18.109375 46.1875 \nQ 20.953125 51.171875 25.484375 53.578125 \nQ 30.03125 56 36.53125 56 \nQ 37.453125 56 38.578125 55.875 \nQ 39.703125 55.765625 41.0625 55.515625 \nz\n\" id=\"DejaVuSans-114\"/>\n        <path d=\"M 30.609375 48.390625 \nQ 23.390625 48.390625 19.1875 42.75 \nQ 14.984375 37.109375 14.984375 27.296875 \nQ 14.984375 17.484375 19.15625 11.84375 \nQ 23.34375 6.203125 30.609375 6.203125 \nQ 37.796875 6.203125 41.984375 11.859375 \nQ 46.1875 17.53125 46.1875 27.296875 \nQ 46.1875 37.015625 41.984375 42.703125 \nQ 37.796875 48.390625 30.609375 48.390625 \nz\nM 30.609375 56 \nQ 42.328125 56 49.015625 48.375 \nQ 55.71875 40.765625 55.71875 27.296875 \nQ 55.71875 13.875 49.015625 6.21875 \nQ 42.328125 -1.421875 30.609375 -1.421875 \nQ 18.84375 -1.421875 12.171875 6.21875 \nQ 5.515625 13.875 5.515625 27.296875 \nQ 5.515625 40.765625 12.171875 48.375 \nQ 18.84375 56 30.609375 56 \nz\n\" id=\"DejaVuSans-111\"/>\n       </defs>\n       <use xlink:href=\"#DejaVuSans-87\"/>\n       <use x=\"96.626953\" xlink:href=\"#DejaVuSans-105\"/>\n       <use x=\"124.410156\" xlink:href=\"#DejaVuSans-116\"/>\n       <use x=\"163.619141\" xlink:href=\"#DejaVuSans-104\"/>\n       <use x=\"226.998047\" xlink:href=\"#DejaVuSans-32\"/>\n       <use x=\"258.785156\" xlink:href=\"#DejaVuSans-90\"/>\n       <use x=\"327.291016\" xlink:href=\"#DejaVuSans-101\"/>\n       <use x=\"388.814453\" xlink:href=\"#DejaVuSans-114\"/>\n       <use x=\"427.677734\" xlink:href=\"#DejaVuSans-111\"/>\n      </g>\n     </g>\n    </g>\n    <g id=\"xtick_2\">\n     <g id=\"line2d_2\">\n      <g>\n       <use style=\"stroke:#000000;stroke-width:0.8;\" x=\"197.503125\" xlink:href=\"#mac1c537d64\" y=\"224.64\"/>\n      </g>\n     </g>\n     <g id=\"text_2\">\n      <!-- With Mean -->\n      <g transform=\"translate(170.941406 239.238437)scale(0.1 -0.1)\">\n       <defs>\n        <path d=\"M 9.8125 72.90625 \nL 24.515625 72.90625 \nL 43.109375 23.296875 \nL 61.8125 72.90625 \nL 76.515625 72.90625 \nL 76.515625 0 \nL 66.890625 0 \nL 66.890625 64.015625 \nL 48.09375 14.015625 \nL 38.1875 14.015625 \nL 19.390625 64.015625 \nL 19.390625 0 \nL 9.8125 0 \nz\n\" id=\"DejaVuSans-77\"/>\n        <path d=\"M 34.28125 27.484375 \nQ 23.390625 27.484375 19.1875 25 \nQ 14.984375 22.515625 14.984375 16.5 \nQ 14.984375 11.71875 18.140625 8.90625 \nQ 21.296875 6.109375 26.703125 6.109375 \nQ 34.1875 6.109375 38.703125 11.40625 \nQ 43.21875 16.703125 43.21875 25.484375 \nL 43.21875 27.484375 \nz\nM 52.203125 31.203125 \nL 52.203125 0 \nL 43.21875 0 \nL 43.21875 8.296875 \nQ 40.140625 3.328125 35.546875 0.953125 \nQ 30.953125 -1.421875 24.3125 -1.421875 \nQ 15.921875 -1.421875 10.953125 3.296875 \nQ 6 8.015625 6 15.921875 \nQ 6 25.140625 12.171875 29.828125 \nQ 18.359375 34.515625 30.609375 34.515625 \nL 43.21875 34.515625 \nL 43.21875 35.40625 \nQ 43.21875 41.609375 39.140625 45 \nQ 35.0625 48.390625 27.6875 48.390625 \nQ 23 48.390625 18.546875 47.265625 \nQ 14.109375 46.140625 10.015625 43.890625 \nL 10.015625 52.203125 \nQ 14.9375 54.109375 19.578125 55.046875 \nQ 24.21875 56 28.609375 56 \nQ 40.484375 56 46.34375 49.84375 \nQ 52.203125 43.703125 52.203125 31.203125 \nz\n\" id=\"DejaVuSans-97\"/>\n        <path d=\"M 54.890625 33.015625 \nL 54.890625 0 \nL 45.90625 0 \nL 45.90625 32.71875 \nQ 45.90625 40.484375 42.875 44.328125 \nQ 39.84375 48.1875 33.796875 48.1875 \nQ 26.515625 48.1875 22.3125 43.546875 \nQ 18.109375 38.921875 18.109375 30.90625 \nL 18.109375 0 \nL 9.078125 0 \nL 9.078125 54.6875 \nL 18.109375 54.6875 \nL 18.109375 46.1875 \nQ 21.34375 51.125 25.703125 53.5625 \nQ 30.078125 56 35.796875 56 \nQ 45.21875 56 50.046875 50.171875 \nQ 54.890625 44.34375 54.890625 33.015625 \nz\n\" id=\"DejaVuSans-110\"/>\n       </defs>\n       <use xlink:href=\"#DejaVuSans-87\"/>\n       <use x=\"96.626953\" xlink:href=\"#DejaVuSans-105\"/>\n       <use x=\"124.410156\" xlink:href=\"#DejaVuSans-116\"/>\n       <use x=\"163.619141\" xlink:href=\"#DejaVuSans-104\"/>\n       <use x=\"226.998047\" xlink:href=\"#DejaVuSans-32\"/>\n       <use x=\"258.785156\" xlink:href=\"#DejaVuSans-77\"/>\n       <use x=\"345.064453\" xlink:href=\"#DejaVuSans-101\"/>\n       <use x=\"406.587891\" xlink:href=\"#DejaVuSans-97\"/>\n       <use x=\"467.867188\" xlink:href=\"#DejaVuSans-110\"/>\n      </g>\n     </g>\n    </g>\n    <g id=\"xtick_3\">\n     <g id=\"line2d_3\">\n      <g>\n       <use style=\"stroke:#000000;stroke-width:0.8;\" x=\"308.180811\" xlink:href=\"#mac1c537d64\" y=\"224.64\"/>\n      </g>\n     </g>\n     <g id=\"text_3\">\n      <!-- With Median -->\n      <g transform=\"translate(277.055811 239.238437)scale(0.1 -0.1)\">\n       <defs>\n        <path d=\"M 45.40625 46.390625 \nL 45.40625 75.984375 \nL 54.390625 75.984375 \nL 54.390625 0 \nL 45.40625 0 \nL 45.40625 8.203125 \nQ 42.578125 3.328125 38.25 0.953125 \nQ 33.9375 -1.421875 27.875 -1.421875 \nQ 17.96875 -1.421875 11.734375 6.484375 \nQ 5.515625 14.40625 5.515625 27.296875 \nQ 5.515625 40.1875 11.734375 48.09375 \nQ 17.96875 56 27.875 56 \nQ 33.9375 56 38.25 53.625 \nQ 42.578125 51.265625 45.40625 46.390625 \nz\nM 14.796875 27.296875 \nQ 14.796875 17.390625 18.875 11.75 \nQ 22.953125 6.109375 30.078125 6.109375 \nQ 37.203125 6.109375 41.296875 11.75 \nQ 45.40625 17.390625 45.40625 27.296875 \nQ 45.40625 37.203125 41.296875 42.84375 \nQ 37.203125 48.484375 30.078125 48.484375 \nQ 22.953125 48.484375 18.875 42.84375 \nQ 14.796875 37.203125 14.796875 27.296875 \nz\n\" id=\"DejaVuSans-100\"/>\n       </defs>\n       <use xlink:href=\"#DejaVuSans-87\"/>\n       <use x=\"96.626953\" xlink:href=\"#DejaVuSans-105\"/>\n       <use x=\"124.410156\" xlink:href=\"#DejaVuSans-116\"/>\n       <use x=\"163.619141\" xlink:href=\"#DejaVuSans-104\"/>\n       <use x=\"226.998047\" xlink:href=\"#DejaVuSans-32\"/>\n       <use x=\"258.785156\" xlink:href=\"#DejaVuSans-77\"/>\n       <use x=\"345.064453\" xlink:href=\"#DejaVuSans-101\"/>\n       <use x=\"406.587891\" xlink:href=\"#DejaVuSans-100\"/>\n       <use x=\"470.064453\" xlink:href=\"#DejaVuSans-105\"/>\n       <use x=\"497.847656\" xlink:href=\"#DejaVuSans-97\"/>\n       <use x=\"559.126953\" xlink:href=\"#DejaVuSans-110\"/>\n      </g>\n     </g>\n    </g>\n    <g id=\"text_4\">\n     <!-- Score banchmark -->\n     <g transform=\"translate(148.494531 252.916562)scale(0.1 -0.1)\">\n      <defs>\n       <path d=\"M 59.90625 70.609375 \nL 59.90625 55.171875 \nQ 53.90625 57.859375 48.1875 59.21875 \nQ 42.484375 60.59375 37.40625 60.59375 \nQ 30.671875 60.59375 27.4375 58.734375 \nQ 24.21875 56.890625 24.21875 52.984375 \nQ 24.21875 50.046875 26.390625 48.40625 \nQ 28.5625 46.78125 34.28125 45.609375 \nL 42.28125 44 \nQ 54.4375 41.546875 59.5625 36.5625 \nQ 64.703125 31.59375 64.703125 22.40625 \nQ 64.703125 10.359375 57.546875 4.46875 \nQ 50.390625 -1.421875 35.6875 -1.421875 \nQ 28.765625 -1.421875 21.78125 -0.09375 \nQ 14.796875 1.21875 7.8125 3.8125 \nL 7.8125 19.671875 \nQ 14.796875 15.96875 21.3125 14.078125 \nQ 27.828125 12.203125 33.890625 12.203125 \nQ 40.046875 12.203125 43.3125 14.25 \nQ 46.578125 16.3125 46.578125 20.125 \nQ 46.578125 23.53125 44.359375 25.390625 \nQ 42.140625 27.25 35.5 28.71875 \nL 28.21875 30.328125 \nQ 17.28125 32.671875 12.21875 37.796875 \nQ 7.171875 42.921875 7.171875 51.609375 \nQ 7.171875 62.5 14.203125 68.359375 \nQ 21.234375 74.21875 34.421875 74.21875 \nQ 40.4375 74.21875 46.78125 73.3125 \nQ 53.125 72.40625 59.90625 70.609375 \nz\n\" id=\"DejaVuSans-Bold-83\"/>\n       <path d=\"M 52.59375 52.984375 \nL 52.59375 38.71875 \nQ 49.03125 41.15625 45.4375 42.328125 \nQ 41.84375 43.5 37.984375 43.5 \nQ 30.671875 43.5 26.59375 39.234375 \nQ 22.515625 34.96875 22.515625 27.296875 \nQ 22.515625 19.625 26.59375 15.34375 \nQ 30.671875 11.078125 37.984375 11.078125 \nQ 42.09375 11.078125 45.78125 12.296875 \nQ 49.46875 13.53125 52.59375 15.921875 \nL 52.59375 1.609375 \nQ 48.484375 0.09375 44.265625 -0.65625 \nQ 40.046875 -1.421875 35.796875 -1.421875 \nQ 21 -1.421875 12.640625 6.171875 \nQ 4.296875 13.765625 4.296875 27.296875 \nQ 4.296875 40.828125 12.640625 48.40625 \nQ 21 56 35.796875 56 \nQ 40.09375 56 44.265625 55.25 \nQ 48.4375 54.5 52.59375 52.984375 \nz\n\" id=\"DejaVuSans-Bold-99\"/>\n       <path d=\"M 34.421875 43.5 \nQ 28.609375 43.5 25.5625 39.328125 \nQ 22.515625 35.15625 22.515625 27.296875 \nQ 22.515625 19.4375 25.5625 15.25 \nQ 28.609375 11.078125 34.421875 11.078125 \nQ 40.140625 11.078125 43.15625 15.25 \nQ 46.1875 19.4375 46.1875 27.296875 \nQ 46.1875 35.15625 43.15625 39.328125 \nQ 40.140625 43.5 34.421875 43.5 \nz\nM 34.421875 56 \nQ 48.53125 56 56.46875 48.375 \nQ 64.40625 40.765625 64.40625 27.296875 \nQ 64.40625 13.8125 56.46875 6.1875 \nQ 48.53125 -1.421875 34.421875 -1.421875 \nQ 20.265625 -1.421875 12.28125 6.1875 \nQ 4.296875 13.8125 4.296875 27.296875 \nQ 4.296875 40.765625 12.28125 48.375 \nQ 20.265625 56 34.421875 56 \nz\n\" id=\"DejaVuSans-Bold-111\"/>\n       <path d=\"M 49.03125 39.796875 \nQ 46.734375 40.875 44.453125 41.375 \nQ 42.1875 41.890625 39.890625 41.890625 \nQ 33.15625 41.890625 29.515625 37.5625 \nQ 25.875 33.25 25.875 25.203125 \nL 25.875 0 \nL 8.40625 0 \nL 8.40625 54.6875 \nL 25.875 54.6875 \nL 25.875 45.703125 \nQ 29.25 51.078125 33.609375 53.53125 \nQ 37.984375 56 44.09375 56 \nQ 44.96875 56 45.984375 55.921875 \nQ 47.015625 55.859375 48.96875 55.609375 \nz\n\" id=\"DejaVuSans-Bold-114\"/>\n       <path d=\"M 62.984375 27.484375 \nL 62.984375 22.515625 \nL 22.125 22.515625 \nQ 22.75 16.359375 26.5625 13.28125 \nQ 30.375 10.203125 37.203125 10.203125 \nQ 42.71875 10.203125 48.5 11.84375 \nQ 54.296875 13.484375 60.40625 16.796875 \nL 60.40625 3.328125 \nQ 54.203125 0.984375 48 -0.21875 \nQ 41.796875 -1.421875 35.59375 -1.421875 \nQ 20.75 -1.421875 12.515625 6.125 \nQ 4.296875 13.671875 4.296875 27.296875 \nQ 4.296875 40.671875 12.375 48.328125 \nQ 20.453125 56 34.625 56 \nQ 47.515625 56 55.25 48.234375 \nQ 62.984375 40.484375 62.984375 27.484375 \nz\nM 45.015625 33.296875 \nQ 45.015625 38.28125 42.109375 41.328125 \nQ 39.203125 44.390625 34.515625 44.390625 \nQ 29.4375 44.390625 26.265625 41.53125 \nQ 23.09375 38.671875 22.3125 33.296875 \nz\n\" id=\"DejaVuSans-Bold-101\"/>\n       <path id=\"DejaVuSans-Bold-32\"/>\n       <path d=\"M 37.5 11.28125 \nQ 43.109375 11.28125 46.0625 15.375 \nQ 49.03125 19.484375 49.03125 27.296875 \nQ 49.03125 35.109375 46.0625 39.203125 \nQ 43.109375 43.3125 37.5 43.3125 \nQ 31.890625 43.3125 28.875 39.1875 \nQ 25.875 35.0625 25.875 27.296875 \nQ 25.875 19.53125 28.875 15.40625 \nQ 31.890625 11.28125 37.5 11.28125 \nz\nM 25.875 46.6875 \nQ 29.5 51.46875 33.890625 53.734375 \nQ 38.28125 56 44 56 \nQ 54.109375 56 60.59375 47.96875 \nQ 67.09375 39.9375 67.09375 27.296875 \nQ 67.09375 14.65625 60.59375 6.609375 \nQ 54.109375 -1.421875 44 -1.421875 \nQ 38.28125 -1.421875 33.890625 0.84375 \nQ 29.5 3.125 25.875 7.90625 \nL 25.875 0 \nL 8.40625 0 \nL 8.40625 75.984375 \nL 25.875 75.984375 \nz\n\" id=\"DejaVuSans-Bold-98\"/>\n       <path d=\"M 32.90625 24.609375 \nQ 27.4375 24.609375 24.671875 22.75 \nQ 21.921875 20.90625 21.921875 17.28125 \nQ 21.921875 13.96875 24.140625 12.078125 \nQ 26.375 10.203125 30.328125 10.203125 \nQ 35.25 10.203125 38.625 13.734375 \nQ 42 17.28125 42 22.609375 \nL 42 24.609375 \nz\nM 59.625 31.203125 \nL 59.625 0 \nL 42 0 \nL 42 8.109375 \nQ 38.484375 3.125 34.078125 0.84375 \nQ 29.6875 -1.421875 23.390625 -1.421875 \nQ 14.890625 -1.421875 9.59375 3.53125 \nQ 4.296875 8.5 4.296875 16.40625 \nQ 4.296875 26.03125 10.90625 30.515625 \nQ 17.53125 35.015625 31.6875 35.015625 \nL 42 35.015625 \nL 42 36.375 \nQ 42 40.53125 38.71875 42.453125 \nQ 35.453125 44.390625 28.515625 44.390625 \nQ 22.90625 44.390625 18.0625 43.265625 \nQ 13.234375 42.140625 9.078125 39.890625 \nL 9.078125 53.21875 \nQ 14.703125 54.59375 20.359375 55.296875 \nQ 26.03125 56 31.6875 56 \nQ 46.484375 56 53.046875 50.171875 \nQ 59.625 44.34375 59.625 31.203125 \nz\n\" id=\"DejaVuSans-Bold-97\"/>\n       <path d=\"M 63.375 33.296875 \nL 63.375 0 \nL 45.796875 0 \nL 45.796875 5.421875 \nL 45.796875 25.484375 \nQ 45.796875 32.5625 45.484375 35.25 \nQ 45.171875 37.9375 44.390625 39.203125 \nQ 43.359375 40.921875 41.59375 41.875 \nQ 39.84375 42.828125 37.59375 42.828125 \nQ 32.125 42.828125 29 38.59375 \nQ 25.875 34.375 25.875 26.90625 \nL 25.875 0 \nL 8.40625 0 \nL 8.40625 54.6875 \nL 25.875 54.6875 \nL 25.875 46.6875 \nQ 29.828125 51.46875 34.265625 53.734375 \nQ 38.71875 56 44.09375 56 \nQ 53.5625 56 58.46875 50.1875 \nQ 63.375 44.390625 63.375 33.296875 \nz\n\" id=\"DejaVuSans-Bold-110\"/>\n       <path d=\"M 63.375 33.296875 \nL 63.375 0 \nL 45.796875 0 \nL 45.796875 5.421875 \nL 45.796875 25.390625 \nQ 45.796875 32.5625 45.484375 35.25 \nQ 45.171875 37.9375 44.390625 39.203125 \nQ 43.359375 40.921875 41.59375 41.875 \nQ 39.84375 42.828125 37.59375 42.828125 \nQ 32.125 42.828125 29 38.59375 \nQ 25.875 34.375 25.875 26.90625 \nL 25.875 0 \nL 8.40625 0 \nL 8.40625 75.984375 \nL 25.875 75.984375 \nL 25.875 46.6875 \nQ 29.828125 51.46875 34.265625 53.734375 \nQ 38.71875 56 44.09375 56 \nQ 53.5625 56 58.46875 50.1875 \nQ 63.375 44.390625 63.375 33.296875 \nz\n\" id=\"DejaVuSans-Bold-104\"/>\n       <path d=\"M 59.078125 45.609375 \nQ 62.40625 50.6875 66.96875 53.34375 \nQ 71.53125 56 77 56 \nQ 86.421875 56 91.359375 50.1875 \nQ 96.296875 44.390625 96.296875 33.296875 \nL 96.296875 0 \nL 78.71875 0 \nL 78.71875 28.515625 \nQ 78.765625 29.15625 78.78125 29.828125 \nQ 78.8125 30.515625 78.8125 31.78125 \nQ 78.8125 37.59375 77.09375 40.203125 \nQ 75.390625 42.828125 71.578125 42.828125 \nQ 66.609375 42.828125 63.890625 38.71875 \nQ 61.1875 34.625 61.078125 26.859375 \nL 61.078125 0 \nL 43.5 0 \nL 43.5 28.515625 \nQ 43.5 37.59375 41.9375 40.203125 \nQ 40.375 42.828125 36.375 42.828125 \nQ 31.34375 42.828125 28.609375 38.703125 \nQ 25.875 34.578125 25.875 26.90625 \nL 25.875 0 \nL 8.296875 0 \nL 8.296875 54.6875 \nL 25.875 54.6875 \nL 25.875 46.6875 \nQ 29.109375 51.3125 33.28125 53.65625 \nQ 37.453125 56 42.484375 56 \nQ 48.140625 56 52.484375 53.265625 \nQ 56.84375 50.53125 59.078125 45.609375 \nz\n\" id=\"DejaVuSans-Bold-109\"/>\n       <path d=\"M 8.40625 75.984375 \nL 25.875 75.984375 \nL 25.875 34.625 \nL 46 54.6875 \nL 66.3125 54.6875 \nL 39.59375 29.59375 \nL 68.40625 0 \nL 47.21875 0 \nL 25.875 22.796875 \nL 25.875 0 \nL 8.40625 0 \nz\n\" id=\"DejaVuSans-Bold-107\"/>\n      </defs>\n      <use xlink:href=\"#DejaVuSans-Bold-83\"/>\n      <use x=\"72.021484\" xlink:href=\"#DejaVuSans-Bold-99\"/>\n      <use x=\"131.298828\" xlink:href=\"#DejaVuSans-Bold-111\"/>\n      <use x=\"200\" xlink:href=\"#DejaVuSans-Bold-114\"/>\n      <use x=\"249.316406\" xlink:href=\"#DejaVuSans-Bold-101\"/>\n      <use x=\"317.138672\" xlink:href=\"#DejaVuSans-Bold-32\"/>\n      <use x=\"351.953125\" xlink:href=\"#DejaVuSans-Bold-98\"/>\n      <use x=\"423.535156\" xlink:href=\"#DejaVuSans-Bold-97\"/>\n      <use x=\"491.015625\" xlink:href=\"#DejaVuSans-Bold-110\"/>\n      <use x=\"562.207031\" xlink:href=\"#DejaVuSans-Bold-99\"/>\n      <use x=\"621.484375\" xlink:href=\"#DejaVuSans-Bold-104\"/>\n      <use x=\"692.675781\" xlink:href=\"#DejaVuSans-Bold-109\"/>\n      <use x=\"796.875\" xlink:href=\"#DejaVuSans-Bold-97\"/>\n      <use x=\"864.355469\" xlink:href=\"#DejaVuSans-Bold-114\"/>\n      <use x=\"913.671875\" xlink:href=\"#DejaVuSans-Bold-107\"/>\n     </g>\n    </g>\n   </g>\n   <g id=\"matplotlib.axis_2\">\n    <g id=\"ytick_1\">\n     <g id=\"line2d_4\">\n      <defs>\n       <path d=\"M 0 0 \nL -3.5 0 \n\" id=\"m69d46dae87\" style=\"stroke:#000000;stroke-width:0.8;\"/>\n      </defs>\n      <g>\n       <use style=\"stroke:#000000;stroke-width:0.8;\" x=\"30.103125\" xlink:href=\"#m69d46dae87\" y=\"224.64\"/>\n      </g>\n     </g>\n     <g id=\"text_5\">\n      <!-- 0.0 -->\n      <g transform=\"translate(7.2 228.439219)scale(0.1 -0.1)\">\n       <defs>\n        <path d=\"M 31.78125 66.40625 \nQ 24.171875 66.40625 20.328125 58.90625 \nQ 16.5 51.421875 16.5 36.375 \nQ 16.5 21.390625 20.328125 13.890625 \nQ 24.171875 6.390625 31.78125 6.390625 \nQ 39.453125 6.390625 43.28125 13.890625 \nQ 47.125 21.390625 47.125 36.375 \nQ 47.125 51.421875 43.28125 58.90625 \nQ 39.453125 66.40625 31.78125 66.40625 \nz\nM 31.78125 74.21875 \nQ 44.046875 74.21875 50.515625 64.515625 \nQ 56.984375 54.828125 56.984375 36.375 \nQ 56.984375 17.96875 50.515625 8.265625 \nQ 44.046875 -1.421875 31.78125 -1.421875 \nQ 19.53125 -1.421875 13.0625 8.265625 \nQ 6.59375 17.96875 6.59375 36.375 \nQ 6.59375 54.828125 13.0625 64.515625 \nQ 19.53125 74.21875 31.78125 74.21875 \nz\n\" id=\"DejaVuSans-48\"/>\n        <path d=\"M 10.6875 12.40625 \nL 21 12.40625 \nL 21 0 \nL 10.6875 0 \nz\n\" id=\"DejaVuSans-46\"/>\n       </defs>\n       <use xlink:href=\"#DejaVuSans-48\"/>\n       <use x=\"63.623047\" xlink:href=\"#DejaVuSans-46\"/>\n       <use x=\"95.410156\" xlink:href=\"#DejaVuSans-48\"/>\n      </g>\n     </g>\n    </g>\n    <g id=\"ytick_2\">\n     <g id=\"line2d_5\">\n      <g>\n       <use style=\"stroke:#000000;stroke-width:0.8;\" x=\"30.103125\" xlink:href=\"#m69d46dae87\" y=\"199.27616\"/>\n      </g>\n     </g>\n     <g id=\"text_6\">\n      <!-- 0.1 -->\n      <g transform=\"translate(7.2 203.075379)scale(0.1 -0.1)\">\n       <defs>\n        <path d=\"M 12.40625 8.296875 \nL 28.515625 8.296875 \nL 28.515625 63.921875 \nL 10.984375 60.40625 \nL 10.984375 69.390625 \nL 28.421875 72.90625 \nL 38.28125 72.90625 \nL 38.28125 8.296875 \nL 54.390625 8.296875 \nL 54.390625 0 \nL 12.40625 0 \nz\n\" id=\"DejaVuSans-49\"/>\n       </defs>\n       <use xlink:href=\"#DejaVuSans-48\"/>\n       <use x=\"63.623047\" xlink:href=\"#DejaVuSans-46\"/>\n       <use x=\"95.410156\" xlink:href=\"#DejaVuSans-49\"/>\n      </g>\n     </g>\n    </g>\n    <g id=\"ytick_3\">\n     <g id=\"line2d_6\">\n      <g>\n       <use style=\"stroke:#000000;stroke-width:0.8;\" x=\"30.103125\" xlink:href=\"#m69d46dae87\" y=\"173.91232\"/>\n      </g>\n     </g>\n     <g id=\"text_7\">\n      <!-- 0.2 -->\n      <g transform=\"translate(7.2 177.711539)scale(0.1 -0.1)\">\n       <defs>\n        <path d=\"M 19.1875 8.296875 \nL 53.609375 8.296875 \nL 53.609375 0 \nL 7.328125 0 \nL 7.328125 8.296875 \nQ 12.9375 14.109375 22.625 23.890625 \nQ 32.328125 33.6875 34.8125 36.53125 \nQ 39.546875 41.84375 41.421875 45.53125 \nQ 43.3125 49.21875 43.3125 52.78125 \nQ 43.3125 58.59375 39.234375 62.25 \nQ 35.15625 65.921875 28.609375 65.921875 \nQ 23.96875 65.921875 18.8125 64.3125 \nQ 13.671875 62.703125 7.8125 59.421875 \nL 7.8125 69.390625 \nQ 13.765625 71.78125 18.9375 73 \nQ 24.125 74.21875 28.421875 74.21875 \nQ 39.75 74.21875 46.484375 68.546875 \nQ 53.21875 62.890625 53.21875 53.421875 \nQ 53.21875 48.921875 51.53125 44.890625 \nQ 49.859375 40.875 45.40625 35.40625 \nQ 44.1875 33.984375 37.640625 27.21875 \nQ 31.109375 20.453125 19.1875 8.296875 \nz\n\" id=\"DejaVuSans-50\"/>\n       </defs>\n       <use xlink:href=\"#DejaVuSans-48\"/>\n       <use x=\"63.623047\" xlink:href=\"#DejaVuSans-46\"/>\n       <use x=\"95.410156\" xlink:href=\"#DejaVuSans-50\"/>\n      </g>\n     </g>\n    </g>\n    <g id=\"ytick_4\">\n     <g id=\"line2d_7\">\n      <g>\n       <use style=\"stroke:#000000;stroke-width:0.8;\" x=\"30.103125\" xlink:href=\"#m69d46dae87\" y=\"148.54848\"/>\n      </g>\n     </g>\n     <g id=\"text_8\">\n      <!-- 0.3 -->\n      <g transform=\"translate(7.2 152.347699)scale(0.1 -0.1)\">\n       <defs>\n        <path d=\"M 40.578125 39.3125 \nQ 47.65625 37.796875 51.625 33 \nQ 55.609375 28.21875 55.609375 21.1875 \nQ 55.609375 10.40625 48.1875 4.484375 \nQ 40.765625 -1.421875 27.09375 -1.421875 \nQ 22.515625 -1.421875 17.65625 -0.515625 \nQ 12.796875 0.390625 7.625 2.203125 \nL 7.625 11.71875 \nQ 11.71875 9.328125 16.59375 8.109375 \nQ 21.484375 6.890625 26.8125 6.890625 \nQ 36.078125 6.890625 40.9375 10.546875 \nQ 45.796875 14.203125 45.796875 21.1875 \nQ 45.796875 27.640625 41.28125 31.265625 \nQ 36.765625 34.90625 28.71875 34.90625 \nL 20.21875 34.90625 \nL 20.21875 43.015625 \nL 29.109375 43.015625 \nQ 36.375 43.015625 40.234375 45.921875 \nQ 44.09375 48.828125 44.09375 54.296875 \nQ 44.09375 59.90625 40.109375 62.90625 \nQ 36.140625 65.921875 28.71875 65.921875 \nQ 24.65625 65.921875 20.015625 65.03125 \nQ 15.375 64.15625 9.8125 62.3125 \nL 9.8125 71.09375 \nQ 15.4375 72.65625 20.34375 73.4375 \nQ 25.25 74.21875 29.59375 74.21875 \nQ 40.828125 74.21875 47.359375 69.109375 \nQ 53.90625 64.015625 53.90625 55.328125 \nQ 53.90625 49.265625 50.4375 45.09375 \nQ 46.96875 40.921875 40.578125 39.3125 \nz\n\" id=\"DejaVuSans-51\"/>\n       </defs>\n       <use xlink:href=\"#DejaVuSans-48\"/>\n       <use x=\"63.623047\" xlink:href=\"#DejaVuSans-46\"/>\n       <use x=\"95.410156\" xlink:href=\"#DejaVuSans-51\"/>\n      </g>\n     </g>\n    </g>\n    <g id=\"ytick_5\">\n     <g id=\"line2d_8\">\n      <g>\n       <use style=\"stroke:#000000;stroke-width:0.8;\" x=\"30.103125\" xlink:href=\"#m69d46dae87\" y=\"123.18464\"/>\n      </g>\n     </g>\n     <g id=\"text_9\">\n      <!-- 0.4 -->\n      <g transform=\"translate(7.2 126.983858)scale(0.1 -0.1)\">\n       <defs>\n        <path d=\"M 37.796875 64.3125 \nL 12.890625 25.390625 \nL 37.796875 25.390625 \nz\nM 35.203125 72.90625 \nL 47.609375 72.90625 \nL 47.609375 25.390625 \nL 58.015625 25.390625 \nL 58.015625 17.1875 \nL 47.609375 17.1875 \nL 47.609375 0 \nL 37.796875 0 \nL 37.796875 17.1875 \nL 4.890625 17.1875 \nL 4.890625 26.703125 \nz\n\" id=\"DejaVuSans-52\"/>\n       </defs>\n       <use xlink:href=\"#DejaVuSans-48\"/>\n       <use x=\"63.623047\" xlink:href=\"#DejaVuSans-46\"/>\n       <use x=\"95.410156\" xlink:href=\"#DejaVuSans-52\"/>\n      </g>\n     </g>\n    </g>\n    <g id=\"ytick_6\">\n     <g id=\"line2d_9\">\n      <g>\n       <use style=\"stroke:#000000;stroke-width:0.8;\" x=\"30.103125\" xlink:href=\"#m69d46dae87\" y=\"97.8208\"/>\n      </g>\n     </g>\n     <g id=\"text_10\">\n      <!-- 0.5 -->\n      <g transform=\"translate(7.2 101.620018)scale(0.1 -0.1)\">\n       <defs>\n        <path d=\"M 10.796875 72.90625 \nL 49.515625 72.90625 \nL 49.515625 64.59375 \nL 19.828125 64.59375 \nL 19.828125 46.734375 \nQ 21.96875 47.46875 24.109375 47.828125 \nQ 26.265625 48.1875 28.421875 48.1875 \nQ 40.625 48.1875 47.75 41.5 \nQ 54.890625 34.8125 54.890625 23.390625 \nQ 54.890625 11.625 47.5625 5.09375 \nQ 40.234375 -1.421875 26.90625 -1.421875 \nQ 22.3125 -1.421875 17.546875 -0.640625 \nQ 12.796875 0.140625 7.71875 1.703125 \nL 7.71875 11.625 \nQ 12.109375 9.234375 16.796875 8.0625 \nQ 21.484375 6.890625 26.703125 6.890625 \nQ 35.15625 6.890625 40.078125 11.328125 \nQ 45.015625 15.765625 45.015625 23.390625 \nQ 45.015625 31 40.078125 35.4375 \nQ 35.15625 39.890625 26.703125 39.890625 \nQ 22.75 39.890625 18.8125 39.015625 \nQ 14.890625 38.140625 10.796875 36.28125 \nz\n\" id=\"DejaVuSans-53\"/>\n       </defs>\n       <use xlink:href=\"#DejaVuSans-48\"/>\n       <use x=\"63.623047\" xlink:href=\"#DejaVuSans-46\"/>\n       <use x=\"95.410156\" xlink:href=\"#DejaVuSans-53\"/>\n      </g>\n     </g>\n    </g>\n    <g id=\"ytick_7\">\n     <g id=\"line2d_10\">\n      <g>\n       <use style=\"stroke:#000000;stroke-width:0.8;\" x=\"30.103125\" xlink:href=\"#m69d46dae87\" y=\"72.45696\"/>\n      </g>\n     </g>\n     <g id=\"text_11\">\n      <!-- 0.6 -->\n      <g transform=\"translate(7.2 76.256178)scale(0.1 -0.1)\">\n       <defs>\n        <path d=\"M 33.015625 40.375 \nQ 26.375 40.375 22.484375 35.828125 \nQ 18.609375 31.296875 18.609375 23.390625 \nQ 18.609375 15.53125 22.484375 10.953125 \nQ 26.375 6.390625 33.015625 6.390625 \nQ 39.65625 6.390625 43.53125 10.953125 \nQ 47.40625 15.53125 47.40625 23.390625 \nQ 47.40625 31.296875 43.53125 35.828125 \nQ 39.65625 40.375 33.015625 40.375 \nz\nM 52.59375 71.296875 \nL 52.59375 62.3125 \nQ 48.875 64.0625 45.09375 64.984375 \nQ 41.3125 65.921875 37.59375 65.921875 \nQ 27.828125 65.921875 22.671875 59.328125 \nQ 17.53125 52.734375 16.796875 39.40625 \nQ 19.671875 43.65625 24.015625 45.921875 \nQ 28.375 48.1875 33.59375 48.1875 \nQ 44.578125 48.1875 50.953125 41.515625 \nQ 57.328125 34.859375 57.328125 23.390625 \nQ 57.328125 12.15625 50.6875 5.359375 \nQ 44.046875 -1.421875 33.015625 -1.421875 \nQ 20.359375 -1.421875 13.671875 8.265625 \nQ 6.984375 17.96875 6.984375 36.375 \nQ 6.984375 53.65625 15.1875 63.9375 \nQ 23.390625 74.21875 37.203125 74.21875 \nQ 40.921875 74.21875 44.703125 73.484375 \nQ 48.484375 72.75 52.59375 71.296875 \nz\n\" id=\"DejaVuSans-54\"/>\n       </defs>\n       <use xlink:href=\"#DejaVuSans-48\"/>\n       <use x=\"63.623047\" xlink:href=\"#DejaVuSans-46\"/>\n       <use x=\"95.410156\" xlink:href=\"#DejaVuSans-54\"/>\n      </g>\n     </g>\n    </g>\n    <g id=\"ytick_8\">\n     <g id=\"line2d_11\">\n      <g>\n       <use style=\"stroke:#000000;stroke-width:0.8;\" x=\"30.103125\" xlink:href=\"#m69d46dae87\" y=\"47.09312\"/>\n      </g>\n     </g>\n     <g id=\"text_12\">\n      <!-- 0.7 -->\n      <g transform=\"translate(7.2 50.892338)scale(0.1 -0.1)\">\n       <defs>\n        <path d=\"M 8.203125 72.90625 \nL 55.078125 72.90625 \nL 55.078125 68.703125 \nL 28.609375 0 \nL 18.3125 0 \nL 43.21875 64.59375 \nL 8.203125 64.59375 \nz\n\" id=\"DejaVuSans-55\"/>\n       </defs>\n       <use xlink:href=\"#DejaVuSans-48\"/>\n       <use x=\"63.623047\" xlink:href=\"#DejaVuSans-46\"/>\n       <use x=\"95.410156\" xlink:href=\"#DejaVuSans-55\"/>\n      </g>\n     </g>\n    </g>\n    <g id=\"ytick_9\">\n     <g id=\"line2d_12\">\n      <g>\n       <use style=\"stroke:#000000;stroke-width:0.8;\" x=\"30.103125\" xlink:href=\"#m69d46dae87\" y=\"21.729279\"/>\n      </g>\n     </g>\n     <g id=\"text_13\">\n      <!-- 0.8 -->\n      <g transform=\"translate(7.2 25.528498)scale(0.1 -0.1)\">\n       <defs>\n        <path d=\"M 31.78125 34.625 \nQ 24.75 34.625 20.71875 30.859375 \nQ 16.703125 27.09375 16.703125 20.515625 \nQ 16.703125 13.921875 20.71875 10.15625 \nQ 24.75 6.390625 31.78125 6.390625 \nQ 38.8125 6.390625 42.859375 10.171875 \nQ 46.921875 13.96875 46.921875 20.515625 \nQ 46.921875 27.09375 42.890625 30.859375 \nQ 38.875 34.625 31.78125 34.625 \nz\nM 21.921875 38.8125 \nQ 15.578125 40.375 12.03125 44.71875 \nQ 8.5 49.078125 8.5 55.328125 \nQ 8.5 64.0625 14.71875 69.140625 \nQ 20.953125 74.21875 31.78125 74.21875 \nQ 42.671875 74.21875 48.875 69.140625 \nQ 55.078125 64.0625 55.078125 55.328125 \nQ 55.078125 49.078125 51.53125 44.71875 \nQ 48 40.375 41.703125 38.8125 \nQ 48.828125 37.15625 52.796875 32.3125 \nQ 56.78125 27.484375 56.78125 20.515625 \nQ 56.78125 9.90625 50.3125 4.234375 \nQ 43.84375 -1.421875 31.78125 -1.421875 \nQ 19.734375 -1.421875 13.25 4.234375 \nQ 6.78125 9.90625 6.78125 20.515625 \nQ 6.78125 27.484375 10.78125 32.3125 \nQ 14.796875 37.15625 21.921875 38.8125 \nz\nM 18.3125 54.390625 \nQ 18.3125 48.734375 21.84375 45.5625 \nQ 25.390625 42.390625 31.78125 42.390625 \nQ 38.140625 42.390625 41.71875 45.5625 \nQ 45.3125 48.734375 45.3125 54.390625 \nQ 45.3125 60.0625 41.71875 63.234375 \nQ 38.140625 66.40625 31.78125 66.40625 \nQ 25.390625 66.40625 21.84375 63.234375 \nQ 18.3125 60.0625 18.3125 54.390625 \nz\n\" id=\"DejaVuSans-56\"/>\n       </defs>\n       <use xlink:href=\"#DejaVuSans-48\"/>\n       <use x=\"63.623047\" xlink:href=\"#DejaVuSans-46\"/>\n       <use x=\"95.410156\" xlink:href=\"#DejaVuSans-56\"/>\n      </g>\n     </g>\n    </g>\n   </g>\n   <g id=\"patch_12\">\n    <path d=\"M 30.103125 224.64 \nL 30.103125 7.2 \n\" style=\"fill:none;stroke:#000000;stroke-linecap:square;stroke-linejoin:miter;stroke-width:0.8;\"/>\n   </g>\n   <g id=\"patch_13\">\n    <path d=\"M 364.903125 224.64 \nL 364.903125 7.2 \n\" style=\"fill:none;stroke:#000000;stroke-linecap:square;stroke-linejoin:miter;stroke-width:0.8;\"/>\n   </g>\n   <g id=\"patch_14\">\n    <path d=\"M 30.103125 224.64 \nL 364.903125 224.64 \n\" style=\"fill:none;stroke:#000000;stroke-linecap:square;stroke-linejoin:miter;stroke-width:0.8;\"/>\n   </g>\n   <g id=\"patch_15\">\n    <path d=\"M 30.103125 7.2 \nL 364.903125 7.2 \n\" style=\"fill:none;stroke:#000000;stroke-linecap:square;stroke-linejoin:miter;stroke-width:0.8;\"/>\n   </g>\n   <g id=\"legend_1\">\n    <g id=\"patch_16\">\n     <path d=\"M 283.464063 59.234375 \nL 357.903125 59.234375 \nQ 359.903125 59.234375 359.903125 57.234375 \nL 359.903125 14.2 \nQ 359.903125 12.2 357.903125 12.2 \nL 283.464063 12.2 \nQ 281.464063 12.2 281.464063 14.2 \nL 281.464063 57.234375 \nQ 281.464063 59.234375 283.464063 59.234375 \nz\n\" style=\"fill:#ffffff;opacity:0.8;stroke:#cccccc;stroke-linejoin:miter;\"/>\n    </g>\n    <g id=\"patch_17\">\n     <path d=\"M 285.464063 23.798437 \nL 305.464063 23.798437 \nL 305.464063 16.798437 \nL 285.464063 16.798437 \nz\n\" style=\"fill:#e4572e;stroke:#ffffff;stroke-linejoin:miter;\"/>\n    </g>\n    <g id=\"text_14\">\n     <!-- LRScore -->\n     <g transform=\"translate(313.464063 23.798437)scale(0.1 -0.1)\">\n      <defs>\n       <path d=\"M 9.8125 72.90625 \nL 19.671875 72.90625 \nL 19.671875 8.296875 \nL 55.171875 8.296875 \nL 55.171875 0 \nL 9.8125 0 \nz\n\" id=\"DejaVuSans-76\"/>\n       <path d=\"M 44.390625 34.1875 \nQ 47.5625 33.109375 50.5625 29.59375 \nQ 53.5625 26.078125 56.59375 19.921875 \nL 66.609375 0 \nL 56 0 \nL 46.6875 18.703125 \nQ 43.0625 26.03125 39.671875 28.421875 \nQ 36.28125 30.8125 30.421875 30.8125 \nL 19.671875 30.8125 \nL 19.671875 0 \nL 9.8125 0 \nL 9.8125 72.90625 \nL 32.078125 72.90625 \nQ 44.578125 72.90625 50.734375 67.671875 \nQ 56.890625 62.453125 56.890625 51.90625 \nQ 56.890625 45.015625 53.6875 40.46875 \nQ 50.484375 35.9375 44.390625 34.1875 \nz\nM 19.671875 64.796875 \nL 19.671875 38.921875 \nL 32.078125 38.921875 \nQ 39.203125 38.921875 42.84375 42.21875 \nQ 46.484375 45.515625 46.484375 51.90625 \nQ 46.484375 58.296875 42.84375 61.546875 \nQ 39.203125 64.796875 32.078125 64.796875 \nz\n\" id=\"DejaVuSans-82\"/>\n       <path d=\"M 53.515625 70.515625 \nL 53.515625 60.890625 \nQ 47.90625 63.578125 42.921875 64.890625 \nQ 37.9375 66.21875 33.296875 66.21875 \nQ 25.25 66.21875 20.875 63.09375 \nQ 16.5 59.96875 16.5 54.203125 \nQ 16.5 49.359375 19.40625 46.890625 \nQ 22.3125 44.4375 30.421875 42.921875 \nL 36.375 41.703125 \nQ 47.40625 39.59375 52.65625 34.296875 \nQ 57.90625 29 57.90625 20.125 \nQ 57.90625 9.515625 50.796875 4.046875 \nQ 43.703125 -1.421875 29.984375 -1.421875 \nQ 24.8125 -1.421875 18.96875 -0.25 \nQ 13.140625 0.921875 6.890625 3.21875 \nL 6.890625 13.375 \nQ 12.890625 10.015625 18.65625 8.296875 \nQ 24.421875 6.59375 29.984375 6.59375 \nQ 38.421875 6.59375 43.015625 9.90625 \nQ 47.609375 13.234375 47.609375 19.390625 \nQ 47.609375 24.75 44.3125 27.78125 \nQ 41.015625 30.8125 33.5 32.328125 \nL 27.484375 33.5 \nQ 16.453125 35.6875 11.515625 40.375 \nQ 6.59375 45.0625 6.59375 53.421875 \nQ 6.59375 63.09375 13.40625 68.65625 \nQ 20.21875 74.21875 32.171875 74.21875 \nQ 37.3125 74.21875 42.625 73.28125 \nQ 47.953125 72.359375 53.515625 70.515625 \nz\n\" id=\"DejaVuSans-83\"/>\n       <path d=\"M 48.78125 52.59375 \nL 48.78125 44.1875 \nQ 44.96875 46.296875 41.140625 47.34375 \nQ 37.3125 48.390625 33.40625 48.390625 \nQ 24.65625 48.390625 19.8125 42.84375 \nQ 14.984375 37.3125 14.984375 27.296875 \nQ 14.984375 17.28125 19.8125 11.734375 \nQ 24.65625 6.203125 33.40625 6.203125 \nQ 37.3125 6.203125 41.140625 7.25 \nQ 44.96875 8.296875 48.78125 10.40625 \nL 48.78125 2.09375 \nQ 45.015625 0.34375 40.984375 -0.53125 \nQ 36.96875 -1.421875 32.421875 -1.421875 \nQ 20.0625 -1.421875 12.78125 6.34375 \nQ 5.515625 14.109375 5.515625 27.296875 \nQ 5.515625 40.671875 12.859375 48.328125 \nQ 20.21875 56 33.015625 56 \nQ 37.15625 56 41.109375 55.140625 \nQ 45.0625 54.296875 48.78125 52.59375 \nz\n\" id=\"DejaVuSans-99\"/>\n      </defs>\n      <use xlink:href=\"#DejaVuSans-76\"/>\n      <use x=\"55.712891\" xlink:href=\"#DejaVuSans-82\"/>\n      <use x=\"125.195312\" xlink:href=\"#DejaVuSans-83\"/>\n      <use x=\"188.671875\" xlink:href=\"#DejaVuSans-99\"/>\n      <use x=\"243.652344\" xlink:href=\"#DejaVuSans-111\"/>\n      <use x=\"304.833984\" xlink:href=\"#DejaVuSans-114\"/>\n      <use x=\"343.697266\" xlink:href=\"#DejaVuSans-101\"/>\n     </g>\n    </g>\n    <g id=\"patch_18\">\n     <path d=\"M 285.464063 38.476562 \nL 305.464063 38.476562 \nL 305.464063 31.476562 \nL 285.464063 31.476562 \nz\n\" style=\"fill:#f0f66e;stroke:#ffffff;stroke-linejoin:miter;\"/>\n    </g>\n    <g id=\"text_15\">\n     <!-- GBScore -->\n     <g transform=\"translate(313.464063 38.476562)scale(0.1 -0.1)\">\n      <defs>\n       <path d=\"M 59.515625 10.40625 \nL 59.515625 29.984375 \nL 43.40625 29.984375 \nL 43.40625 38.09375 \nL 69.28125 38.09375 \nL 69.28125 6.78125 \nQ 63.578125 2.734375 56.6875 0.65625 \nQ 49.8125 -1.421875 42 -1.421875 \nQ 24.90625 -1.421875 15.25 8.5625 \nQ 5.609375 18.5625 5.609375 36.375 \nQ 5.609375 54.25 15.25 64.234375 \nQ 24.90625 74.21875 42 74.21875 \nQ 49.125 74.21875 55.546875 72.453125 \nQ 61.96875 70.703125 67.390625 67.28125 \nL 67.390625 56.78125 \nQ 61.921875 61.421875 55.765625 63.765625 \nQ 49.609375 66.109375 42.828125 66.109375 \nQ 29.4375 66.109375 22.71875 58.640625 \nQ 16.015625 51.171875 16.015625 36.375 \nQ 16.015625 21.625 22.71875 14.15625 \nQ 29.4375 6.6875 42.828125 6.6875 \nQ 48.046875 6.6875 52.140625 7.59375 \nQ 56.25 8.5 59.515625 10.40625 \nz\n\" id=\"DejaVuSans-71\"/>\n       <path d=\"M 19.671875 34.8125 \nL 19.671875 8.109375 \nL 35.5 8.109375 \nQ 43.453125 8.109375 47.28125 11.40625 \nQ 51.125 14.703125 51.125 21.484375 \nQ 51.125 28.328125 47.28125 31.5625 \nQ 43.453125 34.8125 35.5 34.8125 \nz\nM 19.671875 64.796875 \nL 19.671875 42.828125 \nL 34.28125 42.828125 \nQ 41.5 42.828125 45.03125 45.53125 \nQ 48.578125 48.25 48.578125 53.8125 \nQ 48.578125 59.328125 45.03125 62.0625 \nQ 41.5 64.796875 34.28125 64.796875 \nz\nM 9.8125 72.90625 \nL 35.015625 72.90625 \nQ 46.296875 72.90625 52.390625 68.21875 \nQ 58.5 63.53125 58.5 54.890625 \nQ 58.5 48.1875 55.375 44.234375 \nQ 52.25 40.28125 46.1875 39.3125 \nQ 53.46875 37.75 57.5 32.78125 \nQ 61.53125 27.828125 61.53125 20.40625 \nQ 61.53125 10.640625 54.890625 5.3125 \nQ 48.25 0 35.984375 0 \nL 9.8125 0 \nz\n\" id=\"DejaVuSans-66\"/>\n      </defs>\n      <use xlink:href=\"#DejaVuSans-71\"/>\n      <use x=\"77.490234\" xlink:href=\"#DejaVuSans-66\"/>\n      <use x=\"144.34375\" xlink:href=\"#DejaVuSans-83\"/>\n      <use x=\"207.820312\" xlink:href=\"#DejaVuSans-99\"/>\n      <use x=\"262.800781\" xlink:href=\"#DejaVuSans-111\"/>\n      <use x=\"323.982422\" xlink:href=\"#DejaVuSans-114\"/>\n      <use x=\"362.845703\" xlink:href=\"#DejaVuSans-101\"/>\n     </g>\n    </g>\n    <g id=\"patch_19\">\n     <path d=\"M 285.464063 53.154687 \nL 305.464063 53.154687 \nL 305.464063 46.154687 \nL 285.464063 46.154687 \nz\n\" style=\"fill:#e65eff;stroke:#ffffff;stroke-linejoin:miter;\"/>\n    </g>\n    <g id=\"text_16\">\n     <!-- RFScore -->\n     <g transform=\"translate(313.464063 53.154687)scale(0.1 -0.1)\">\n      <defs>\n       <path d=\"M 9.8125 72.90625 \nL 51.703125 72.90625 \nL 51.703125 64.59375 \nL 19.671875 64.59375 \nL 19.671875 43.109375 \nL 48.578125 43.109375 \nL 48.578125 34.8125 \nL 19.671875 34.8125 \nL 19.671875 0 \nL 9.8125 0 \nz\n\" id=\"DejaVuSans-70\"/>\n      </defs>\n      <use xlink:href=\"#DejaVuSans-82\"/>\n      <use x=\"69.482422\" xlink:href=\"#DejaVuSans-70\"/>\n      <use x=\"125.251953\" xlink:href=\"#DejaVuSans-83\"/>\n      <use x=\"188.728516\" xlink:href=\"#DejaVuSans-99\"/>\n      <use x=\"243.708984\" xlink:href=\"#DejaVuSans-111\"/>\n      <use x=\"304.890625\" xlink:href=\"#DejaVuSans-114\"/>\n      <use x=\"343.753906\" xlink:href=\"#DejaVuSans-101\"/>\n     </g>\n    </g>\n   </g>\n  </g>\n </g>\n <defs>\n  <clipPath id=\"p91c789c780\">\n   <rect height=\"217.44\" width=\"334.8\" x=\"30.103125\" y=\"7.2\"/>\n  </clipPath>\n </defs>\n</svg>\n",
      "image/png": "[encoded data removed]"
     },
     "metadata": {
      "needs_background": "light"
     }
    }
   ],
   "source": [
    "# Creating a plot to see the difference with the approach for DT\n",
    "LRScore = [LRScore1,LRScore2,LRScore3] # accuracy without F15, with F15 filled with mean, with F15 filled with zero\n",
    "GBScore = [GBScore1,GBScore2, GBScore3]# Kappa without F15, with F15 filled with mean, with F15 filled with zero\n",
    "RFScore = [RFScore3,RFScore3, RFScore3]\n",
    "labels = ['With Zero', 'With Mean', 'With Median']\n",
    "barplotWidth = 0.25\n",
    "r1 = np.arange(len(LRScore))\n",
    "r2 = [x + barplotWidth for x in r1]\n",
    "r3 = [x + barplotWidth for x in r2]\n",
    "plt.bar(r1, LRScore, color='#E4572E', width=barplotWidth, edgecolor='white', label='LRScore')\n",
    "plt.bar(r2, GBScore, color='#F0F66E', width=barplotWidth, edgecolor='white', label='GBScore')\n",
    "plt.bar(r3, RFScore, color='#E65EFF', width=barplotWidth, edgecolor='white', label='RFScore')\n",
    "plt.xlabel('Score banchmark', fontweight='bold')\n",
    "plt.xticks([r + barplotWidth for r in range(len(LRScore))], labels)\n",
    "plt.legend()\n",
    "plt.show()"
   ]
  },
  {
   "cell_type": "code",
   "execution_count": null,
   "metadata": {},
   "outputs": [],
   "source": []
  },
  {
   "cell_type": "code",
   "execution_count": 236,
   "metadata": {},
   "outputs": [],
   "source": [
    "test = pd.read_csv('CE802_P3_Data/CE802_P3_Test.csv')  # Calling the test file"
   ]
  },
  {
   "cell_type": "code",
   "execution_count": 237,
   "metadata": {},
   "outputs": [],
   "source": [
    "# Changing the strings to integers\n",
    "def replace_country(a,b):\n",
    "    test.F14.replace(a,b,inplace=True)\n",
    "replace_country('USA',1)\n",
    "replace_country('UK',2)\n",
    "replace_country('Europe',3)\n",
    "replace_country('Rest',4)\n",
    "def replace_cF6(a,b):\n",
    "    test.F6.replace(a,b,inplace=True)\n",
    "replace_cF6('Low',1)\n",
    "replace_cF6('High',2)\n",
    "replace_cF6('Very high',3)\n",
    "replace_cF6('Medium',4)\n",
    "replace_cF6('Very low',5)"
   ]
  },
  {
   "cell_type": "code",
   "execution_count": 241,
   "metadata": {},
   "outputs": [],
   "source": [
    "# Splitting the dataset\n",
    "train_data_x = test.iloc[:,:16] # split dataset in features and target variable\n",
    "train_data_y = test.iloc[:, 16]"
   ]
  },
  {
   "cell_type": "code",
   "execution_count": 242,
   "metadata": {},
   "outputs": [],
   "source": [
    "TargetPredict = GBO.predict(train_data_x)"
   ]
  },
  {
   "cell_type": "code",
   "execution_count": 252,
   "metadata": {},
   "outputs": [
    {
     "output_type": "execute_result",
     "data": {
      "text/plain": [
       "array([1823.095819  ,  340.64971119, 1316.72191538, ..., 1551.46493956,\n",
       "        802.50822155, 1042.8450372 ])"
      ]
     },
     "metadata": {},
     "execution_count": 252
    }
   ],
   "source": [
    "TargetPredict"
   ]
  },
  {
   "cell_type": "code",
   "execution_count": 248,
   "metadata": {},
   "outputs": [],
   "source": [
    "#Added the predictions to the columns target\n",
    "test['Target'] = ClassPredict"
   ]
  },
  {
   "cell_type": "code",
   "execution_count": 249,
   "metadata": {},
   "outputs": [
    {
     "output_type": "execute_result",
     "data": {
      "text/plain": [
       "         F1  F2      F3      F4    F5  F6    F7       F8        F9     F10  \\\n",
       "0     19.62   4   64.06   43.65 -3.45   3  6.51 -3379.32 -10702.17 -252.84   \n",
       "1      8.91   3    0.00  -29.13 -5.45   1  2.72 -4726.20 -18639.21 -182.04   \n",
       "2      8.55   2    0.94  175.35 -4.77   2  1.91 -2800.83 -20690.94 -262.80   \n",
       "3     26.73   3    1.86  163.71 -6.74   1  3.20 -4202.19 -14001.97 -258.80   \n",
       "4      5.52   5    6.74  298.77 -8.34   1  2.77 -3333.69 -14949.07 -275.84   \n",
       "...     ...  ..     ...     ...   ...  ..   ...      ...       ...     ...   \n",
       "1495   6.84   3    6.76  178.83 -4.45   2  4.82 -2487.90 -14300.95 -248.86   \n",
       "1496  14.67   4  217.94  136.71 -2.16   1  5.24 -3589.92 -17406.68 -217.44   \n",
       "1497  12.96   4   18.88  210.78  1.85   5  0.60 -3147.93 -14315.11 -199.28   \n",
       "1498  14.22   7    0.68  177.42 -3.61   5  1.39 -3273.96 -10592.68 -139.00   \n",
       "1499  23.58   5    5.96   78.21 -3.11   4  1.94 -3789.27 -15519.31  -84.58   \n",
       "\n",
       "        F11    F12  F13  F14      F15     F16       Target  \n",
       "0      6.16 -28.80   10    4  2833.83  630.81  1985.694892  \n",
       "1      4.12 -37.92    6    3  5011.47  623.01   208.106255  \n",
       "2      3.76 -26.42    6    2  3835.32  684.15  1325.892550  \n",
       "3      4.53 -24.74   10    2  2372.91  777.60  2027.594138  \n",
       "4      6.24 -31.00    2    4  5324.61  724.44  1206.054160  \n",
       "...     ...    ...  ...  ...      ...     ...          ...  \n",
       "1495   3.97 -32.06    8    1  4696.83  579.36  1308.654036  \n",
       "1496  10.18 -30.12    6    1  3952.08  747.75  1173.284676  \n",
       "1497   9.19 -23.96    8    3  4269.81  794.01  1302.919999  \n",
       "1498   8.26 -21.26    0    2  4401.87  772.29   478.631362  \n",
       "1499   4.76 -34.02    4    3  3589.89  721.62  1069.641643  \n",
       "\n",
       "[1500 rows x 17 columns]"
      ],
      "text/html": "<div>\n<style scoped>\n    .dataframe tbody tr th:only-of-type {\n        vertical-align: middle;\n    }\n\n    .dataframe tbody tr th {\n        vertical-align: top;\n    }\n\n    .dataframe thead th {\n        text-align: right;\n    }\n</style>\n<table border=\"1\" class=\"dataframe\">\n  <thead>\n    <tr style=\"text-align: right;\">\n      <th></th>\n      <th>F1</th>\n      <th>F2</th>\n      <th>F3</th>\n      <th>F4</th>\n      <th>F5</th>\n      <th>F6</th>\n      <th>F7</th>\n      <th>F8</th>\n      <th>F9</th>\n      <th>F10</th>\n      <th>F11</th>\n      <th>F12</th>\n      <th>F13</th>\n      <th>F14</th>\n      <th>F15</th>\n      <th>F16</th>\n      <th>Target</th>\n    </tr>\n  </thead>\n  <tbody>\n    <tr>\n      <th>0</th>\n      <td>19.62</td>\n      <td>4</td>\n      <td>64.06</td>\n      <td>43.65</td>\n      <td>-3.45</td>\n      <td>3</td>\n      <td>6.51</td>\n      <td>-3379.32</td>\n      <td>-10702.17</td>\n      <td>-252.84</td>\n      <td>6.16</td>\n      <td>-28.80</td>\n      <td>10</td>\n      <td>4</td>\n      <td>2833.83</td>\n      <td>630.81</td>\n      <td>1985.694892</td>\n    </tr>\n    <tr>\n      <th>1</th>\n      <td>8.91</td>\n      <td>3</td>\n      <td>0.00</td>\n      <td>-29.13</td>\n      <td>-5.45</td>\n      <td>1</td>\n      <td>2.72</td>\n      <td>-4726.20</td>\n      <td>-18639.21</td>\n      <td>-182.04</td>\n      <td>4.12</td>\n      <td>-37.92</td>\n      <td>6</td>\n      <td>3</td>\n      <td>5011.47</td>\n      <td>623.01</td>\n      <td>208.106255</td>\n    </tr>\n    <tr>\n      <th>2</th>\n      <td>8.55</td>\n      <td>2</td>\n      <td>0.94</td>\n      <td>175.35</td>\n      <td>-4.77</td>\n      <td>2</td>\n      <td>1.91</td>\n      <td>-2800.83</td>\n      <td>-20690.94</td>\n      <td>-262.80</td>\n      <td>3.76</td>\n      <td>-26.42</td>\n      <td>6</td>\n      <td>2</td>\n      <td>3835.32</td>\n      <td>684.15</td>\n      <td>1325.892550</td>\n    </tr>\n    <tr>\n      <th>3</th>\n      <td>26.73</td>\n      <td>3</td>\n      <td>1.86</td>\n      <td>163.71</td>\n      <td>-6.74</td>\n      <td>1</td>\n      <td>3.20</td>\n      <td>-4202.19</td>\n      <td>-14001.97</td>\n      <td>-258.80</td>\n      <td>4.53</td>\n      <td>-24.74</td>\n      <td>10</td>\n      <td>2</td>\n      <td>2372.91</td>\n      <td>777.60</td>\n      <td>2027.594138</td>\n    </tr>\n    <tr>\n      <th>4</th>\n      <td>5.52</td>\n      <td>5</td>\n      <td>6.74</td>\n      <td>298.77</td>\n      <td>-8.34</td>\n      <td>1</td>\n      <td>2.77</td>\n      <td>-3333.69</td>\n      <td>-14949.07</td>\n      <td>-275.84</td>\n      <td>6.24</td>\n      <td>-31.00</td>\n      <td>2</td>\n      <td>4</td>\n      <td>5324.61</td>\n      <td>724.44</td>\n      <td>1206.054160</td>\n    </tr>\n    <tr>\n      <th>...</th>\n      <td>...</td>\n      <td>...</td>\n      <td>...</td>\n      <td>...</td>\n      <td>...</td>\n      <td>...</td>\n      <td>...</td>\n      <td>...</td>\n      <td>...</td>\n      <td>...</td>\n      <td>...</td>\n      <td>...</td>\n      <td>...</td>\n      <td>...</td>\n      <td>...</td>\n      <td>...</td>\n      <td>...</td>\n    </tr>\n    <tr>\n      <th>1495</th>\n      <td>6.84</td>\n      <td>3</td>\n      <td>6.76</td>\n      <td>178.83</td>\n      <td>-4.45</td>\n      <td>2</td>\n      <td>4.82</td>\n      <td>-2487.90</td>\n      <td>-14300.95</td>\n      <td>-248.86</td>\n      <td>3.97</td>\n      <td>-32.06</td>\n      <td>8</td>\n      <td>1</td>\n      <td>4696.83</td>\n      <td>579.36</td>\n      <td>1308.654036</td>\n    </tr>\n    <tr>\n      <th>1496</th>\n      <td>14.67</td>\n      <td>4</td>\n      <td>217.94</td>\n      <td>136.71</td>\n      <td>-2.16</td>\n      <td>1</td>\n      <td>5.24</td>\n      <td>-3589.92</td>\n      <td>-17406.68</td>\n      <td>-217.44</td>\n      <td>10.18</td>\n      <td>-30.12</td>\n      <td>6</td>\n      <td>1</td>\n      <td>3952.08</td>\n      <td>747.75</td>\n      <td>1173.284676</td>\n    </tr>\n    <tr>\n      <th>1497</th>\n      <td>12.96</td>\n      <td>4</td>\n      <td>18.88</td>\n      <td>210.78</td>\n      <td>1.85</td>\n      <td>5</td>\n      <td>0.60</td>\n      <td>-3147.93</td>\n      <td>-14315.11</td>\n      <td>-199.28</td>\n      <td>9.19</td>\n      <td>-23.96</td>\n      <td>8</td>\n      <td>3</td>\n      <td>4269.81</td>\n      <td>794.01</td>\n      <td>1302.919999</td>\n    </tr>\n    <tr>\n      <th>1498</th>\n      <td>14.22</td>\n      <td>7</td>\n      <td>0.68</td>\n      <td>177.42</td>\n      <td>-3.61</td>\n      <td>5</td>\n      <td>1.39</td>\n      <td>-3273.96</td>\n      <td>-10592.68</td>\n      <td>-139.00</td>\n      <td>8.26</td>\n      <td>-21.26</td>\n      <td>0</td>\n      <td>2</td>\n      <td>4401.87</td>\n      <td>772.29</td>\n      <td>478.631362</td>\n    </tr>\n    <tr>\n      <th>1499</th>\n      <td>23.58</td>\n      <td>5</td>\n      <td>5.96</td>\n      <td>78.21</td>\n      <td>-3.11</td>\n      <td>4</td>\n      <td>1.94</td>\n      <td>-3789.27</td>\n      <td>-15519.31</td>\n      <td>-84.58</td>\n      <td>4.76</td>\n      <td>-34.02</td>\n      <td>4</td>\n      <td>3</td>\n      <td>3589.89</td>\n      <td>721.62</td>\n      <td>1069.641643</td>\n    </tr>\n  </tbody>\n</table>\n<p>1500 rows × 17 columns</p>\n</div>"
     },
     "metadata": {},
     "execution_count": 249
    }
   ],
   "source": [
    "test"
   ]
  },
  {
   "cell_type": "code",
   "execution_count": 253,
   "metadata": {},
   "outputs": [],
   "source": [
    "#Changing F6 and F14 columns to original values\n",
    "def replace_country(a,b):\n",
    "    test.F14.replace(a,b,inplace=True)\n",
    "replace_country(1,'USA')\n",
    "replace_country(2,'UK')\n",
    "replace_country(3,'Europe')\n",
    "replace_country(4,'Rest')\n",
    "def replace_cF6(a,b):\n",
    "    test.F6.replace(a,b,inplace=True)\n",
    "replace_cF6(1,'Low')\n",
    "replace_cF6(2,'High')\n",
    "replace_cF6(3,'Very high')\n",
    "replace_cF6(4,'Medium')\n",
    "replace_cF6(5,'Very low')"
   ]
  },
  {
   "cell_type": "code",
   "execution_count": 259,
   "metadata": {},
   "outputs": [
    {
     "output_type": "execute_result",
     "data": {
      "text/plain": [
       "      F1  F2     F3      F4    F5         F6    F7       F8        F9     F10  \\\n",
       "0  19.62   4  64.06   43.65 -3.45  Very high  6.51 -3379.32 -10702.17 -252.84   \n",
       "1   8.91   3   0.00  -29.13 -5.45        Low  2.72 -4726.20 -18639.21 -182.04   \n",
       "2   8.55   2   0.94  175.35 -4.77       High  1.91 -2800.83 -20690.94 -262.80   \n",
       "3  26.73   3   1.86  163.71 -6.74        Low  3.20 -4202.19 -14001.97 -258.80   \n",
       "4   5.52   5   6.74  298.77 -8.34        Low  2.77 -3333.69 -14949.07 -275.84   \n",
       "\n",
       "    F11    F12  F13     F14      F15     F16       Target  \n",
       "0  6.16 -28.80   10    Rest  2833.83  630.81  1985.694892  \n",
       "1  4.12 -37.92    6  Europe  5011.47  623.01   208.106255  \n",
       "2  3.76 -26.42    6      UK  3835.32  684.15  1325.892550  \n",
       "3  4.53 -24.74   10      UK  2372.91  777.60  2027.594138  \n",
       "4  6.24 -31.00    2    Rest  5324.61  724.44  1206.054160  "
      ],
      "text/html": "<div>\n<style scoped>\n    .dataframe tbody tr th:only-of-type {\n        vertical-align: middle;\n    }\n\n    .dataframe tbody tr th {\n        vertical-align: top;\n    }\n\n    .dataframe thead th {\n        text-align: right;\n    }\n</style>\n<table border=\"1\" class=\"dataframe\">\n  <thead>\n    <tr style=\"text-align: right;\">\n      <th></th>\n      <th>F1</th>\n      <th>F2</th>\n      <th>F3</th>\n      <th>F4</th>\n      <th>F5</th>\n      <th>F6</th>\n      <th>F7</th>\n      <th>F8</th>\n      <th>F9</th>\n      <th>F10</th>\n      <th>F11</th>\n      <th>F12</th>\n      <th>F13</th>\n      <th>F14</th>\n      <th>F15</th>\n      <th>F16</th>\n      <th>Target</th>\n    </tr>\n  </thead>\n  <tbody>\n    <tr>\n      <th>0</th>\n      <td>19.62</td>\n      <td>4</td>\n      <td>64.06</td>\n      <td>43.65</td>\n      <td>-3.45</td>\n      <td>Very high</td>\n      <td>6.51</td>\n      <td>-3379.32</td>\n      <td>-10702.17</td>\n      <td>-252.84</td>\n      <td>6.16</td>\n      <td>-28.80</td>\n      <td>10</td>\n      <td>Rest</td>\n      <td>2833.83</td>\n      <td>630.81</td>\n      <td>1985.694892</td>\n    </tr>\n    <tr>\n      <th>1</th>\n      <td>8.91</td>\n      <td>3</td>\n      <td>0.00</td>\n      <td>-29.13</td>\n      <td>-5.45</td>\n      <td>Low</td>\n      <td>2.72</td>\n      <td>-4726.20</td>\n      <td>-18639.21</td>\n      <td>-182.04</td>\n      <td>4.12</td>\n      <td>-37.92</td>\n      <td>6</td>\n      <td>Europe</td>\n      <td>5011.47</td>\n      <td>623.01</td>\n      <td>208.106255</td>\n    </tr>\n    <tr>\n      <th>2</th>\n      <td>8.55</td>\n      <td>2</td>\n      <td>0.94</td>\n      <td>175.35</td>\n      <td>-4.77</td>\n      <td>High</td>\n      <td>1.91</td>\n      <td>-2800.83</td>\n      <td>-20690.94</td>\n      <td>-262.80</td>\n      <td>3.76</td>\n      <td>-26.42</td>\n      <td>6</td>\n      <td>UK</td>\n      <td>3835.32</td>\n      <td>684.15</td>\n      <td>1325.892550</td>\n    </tr>\n    <tr>\n      <th>3</th>\n      <td>26.73</td>\n      <td>3</td>\n      <td>1.86</td>\n      <td>163.71</td>\n      <td>-6.74</td>\n      <td>Low</td>\n      <td>3.20</td>\n      <td>-4202.19</td>\n      <td>-14001.97</td>\n      <td>-258.80</td>\n      <td>4.53</td>\n      <td>-24.74</td>\n      <td>10</td>\n      <td>UK</td>\n      <td>2372.91</td>\n      <td>777.60</td>\n      <td>2027.594138</td>\n    </tr>\n    <tr>\n      <th>4</th>\n      <td>5.52</td>\n      <td>5</td>\n      <td>6.74</td>\n      <td>298.77</td>\n      <td>-8.34</td>\n      <td>Low</td>\n      <td>2.77</td>\n      <td>-3333.69</td>\n      <td>-14949.07</td>\n      <td>-275.84</td>\n      <td>6.24</td>\n      <td>-31.00</td>\n      <td>2</td>\n      <td>Rest</td>\n      <td>5324.61</td>\n      <td>724.44</td>\n      <td>1206.054160</td>\n    </tr>\n  </tbody>\n</table>\n</div>"
     },
     "metadata": {},
     "execution_count": 259
    }
   ],
   "source": [
    "test.head()"
   ]
  },
  {
   "cell_type": "code",
   "execution_count": 260,
   "metadata": {},
   "outputs": [],
   "source": [
    "#Replaced the CE802_P2_Test.csv file\n",
    "test.to_csv('CE802_P3_Test.csv')"
   ]
  },
  {
   "cell_type": "code",
   "execution_count": null,
   "metadata": {},
   "outputs": [],
   "source": []
  }
 ]
}